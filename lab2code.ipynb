{
 "cells": [
  {
   "cell_type": "code",
   "execution_count": 2,
   "id": "7a198ba2",
   "metadata": {},
   "outputs": [],
   "source": [
    "import numpy as np"
   ]
  },
  {
   "cell_type": "markdown",
   "id": "28ea64d6",
   "metadata": {},
   "source": [
    "## Numpy\n"
   ]
  },
  {
   "cell_type": "code",
   "execution_count": 7,
   "id": "1e63dd6b",
   "metadata": {},
   "outputs": [
    {
     "data": {
      "text/plain": [
       "array([1, 2, 3])"
      ]
     },
     "execution_count": 7,
     "metadata": {},
     "output_type": "execute_result"
    }
   ],
   "source": [
    "# 1. Converting a List to n-dimensional NumPy Array\n",
    "list_to_convert = [1,2,3] # new\n",
    "numpy_array = np.array(list_to_convert)\n",
    "numpy_array #new"
   ]
  },
  {
   "cell_type": "code",
   "execution_count": 8,
   "id": "58bd2bb9",
   "metadata": {},
   "outputs": [
    {
     "data": {
      "text/plain": [
       "(5,)"
      ]
     },
     "execution_count": 8,
     "metadata": {},
     "output_type": "execute_result"
    }
   ],
   "source": [
    "# 2. Use of np.newaxis and np.reshape\n",
    "a = [1,2,3,4,5] #corrected\n",
    "a_numpy = np.array(a)\n",
    "a_numpy.shape # new"
   ]
  },
  {
   "cell_type": "code",
   "execution_count": 9,
   "id": "a534fe02",
   "metadata": {},
   "outputs": [
    {
     "data": {
      "text/plain": [
       "(5, 1)"
      ]
     },
     "execution_count": 9,
     "metadata": {},
     "output_type": "execute_result"
    }
   ],
   "source": [
    "row_vector = a_numpy[:,np.newaxis]\n",
    "row_vector.shape # new"
   ]
  },
  {
   "cell_type": "code",
   "execution_count": 10,
   "id": "c25702b8",
   "metadata": {},
   "outputs": [
    {
     "data": {
      "text/plain": [
       "array([[ 0,  1,  2,  3,  4],\n",
       "       [ 5,  6,  7,  8,  9],\n",
       "       [10, 11, 12, 13, 14]])"
      ]
     },
     "execution_count": 10,
     "metadata": {},
     "output_type": "execute_result"
    }
   ],
   "source": [
    "a= range(0,15) #List of numbers form 0 to 14\n",
    "a_numpy = np.array(a) #new\n",
    "b = a_numpy.reshape(3,5)\n",
    "b # corrected"
   ]
  },
  {
   "cell_type": "code",
   "execution_count": 12,
   "id": "1c6f8ae5",
   "metadata": {},
   "outputs": [
    {
     "data": {
      "text/plain": [
       "array([(1, 2), list([3, 4, 5]), (6, 7, 8)], dtype=object)"
      ]
     },
     "execution_count": 12,
     "metadata": {},
     "output_type": "execute_result"
    }
   ],
   "source": [
    "#3. Converting any data type to NumPy array¶\n",
    "a = [(1,2), [3,4,(5)], (6,7,8)]\n",
    "b = np.asarray(a)\n",
    "b # corrected"
   ]
  },
  {
   "cell_type": "code",
   "execution_count": null,
   "id": "b943edce",
   "metadata": {},
   "outputs": [],
   "source": [
    "# 4. Get an n-dimensional Array of Zeros"
   ]
  },
  {
   "cell_type": "code",
   "execution_count": 13,
   "id": "63193f58",
   "metadata": {},
   "outputs": [
    {
     "data": {
      "text/plain": [
       "array([[0., 0., 0., 0.],\n",
       "       [0., 0., 0., 0.],\n",
       "       [0., 0., 0., 0.]], dtype=float16)"
      ]
     },
     "execution_count": 13,
     "metadata": {},
     "output_type": "execute_result"
    }
   ],
   "source": [
    "# code removed\n",
    "a = np.zeros((3,4), dtype = np.float16)\n",
    "a #new"
   ]
  },
  {
   "cell_type": "code",
   "execution_count": null,
   "id": "b0c44ec4",
   "metadata": {},
   "outputs": [],
   "source": [
    "# 5. Get an n-dimensional Array of Ones"
   ]
  },
  {
   "cell_type": "code",
   "execution_count": 14,
   "id": "f979df24",
   "metadata": {},
   "outputs": [
    {
     "data": {
      "text/plain": [
       "array([[1, 1, 1, 1],\n",
       "       [1, 1, 1, 1],\n",
       "       [1, 1, 1, 1]])"
      ]
     },
     "execution_count": 14,
     "metadata": {},
     "output_type": "execute_result"
    }
   ],
   "source": [
    "a = np.ones((3,4), dtype=np.int32)\n",
    "a # new "
   ]
  },
  {
   "cell_type": "code",
   "execution_count": 18,
   "id": "c36d3f0c",
   "metadata": {},
   "outputs": [
    {
     "data": {
      "text/plain": [
       "array([[1., 1., 1.],\n",
       "       [1., 1., 1.]], dtype=float16)"
      ]
     },
     "execution_count": 18,
     "metadata": {},
     "output_type": "execute_result"
    }
   ],
   "source": [
    "# 6. np.full and np.empty\n",
    "#code below put in a comment\n",
    "# np.full (shape_as_tuple, value_to_fill, dtype=type_you_want)\n",
    "a = np.full((2,3), 1, dtype=np.float16)\n",
    "a"
   ]
  },
  {
   "cell_type": "code",
   "execution_count": 19,
   "id": "d72795eb",
   "metadata": {},
   "outputs": [],
   "source": [
    "#np.empty creates an array with random values."
   ]
  },
  {
   "cell_type": "code",
   "execution_count": 21,
   "id": "bde7040e",
   "metadata": {},
   "outputs": [
    {
     "data": {
      "text/plain": [
       "array([[    0,     0],\n",
       "       [16384, 16527]], dtype=int16)"
      ]
     },
     "execution_count": 21,
     "metadata": {},
     "output_type": "execute_result"
    }
   ],
   "source": [
    "# new cell\n",
    "\n",
    "#code below put in a comment\n",
    "# np.empty(shap_as_tuple, dtype=int)\n",
    "a = np.empty((2,2),dtype=np.int16)\n",
    "a #new"
   ]
  },
  {
   "cell_type": "code",
   "execution_count": null,
   "id": "d68377c8",
   "metadata": {},
   "outputs": [],
   "source": [
    "# 7. Getting an Array of Evenly Spaced Values\n",
    "# Both np.linspace and np.arrange can be used to create an array with evenly spaced elements."
   ]
  },
  {
   "cell_type": "code",
   "execution_count": 22,
   "id": "be965e43",
   "metadata": {},
   "outputs": [
    {
     "data": {
      "text/plain": [
       "(array([1. , 1.2, 1.4, 1.6, 1.8]), 0.2)"
      ]
     },
     "execution_count": 22,
     "metadata": {},
     "output_type": "execute_result"
    }
   ],
   "source": [
    "np.linspace(1,2,num=5,endpoint = False, retstep = True)"
   ]
  },
  {
   "cell_type": "code",
   "execution_count": 23,
   "id": "e6568bca",
   "metadata": {},
   "outputs": [
    {
     "data": {
      "text/plain": [
       "array([1, 3, 5, 7, 9])"
      ]
     },
     "execution_count": 23,
     "metadata": {},
     "output_type": "execute_result"
    }
   ],
   "source": [
    "np.arange(1,10,2)"
   ]
  },
  {
   "cell_type": "code",
   "execution_count": null,
   "id": "4e91237f",
   "metadata": {},
   "outputs": [],
   "source": [
    "# 8. Finding the shape of the NumPy array"
   ]
  },
  {
   "cell_type": "code",
   "execution_count": 24,
   "id": "868938c1",
   "metadata": {},
   "outputs": [
    {
     "name": "stdout",
     "output_type": "stream",
     "text": [
      "[[    0     0]\n",
      " [16384 16527]]\n"
     ]
    },
    {
     "data": {
      "text/plain": [
       "(2, 2)"
      ]
     },
     "execution_count": 24,
     "metadata": {},
     "output_type": "execute_result"
    }
   ],
   "source": [
    "print(a)\n",
    "a.shape"
   ]
  },
  {
   "cell_type": "code",
   "execution_count": 25,
   "id": "af03684a",
   "metadata": {},
   "outputs": [
    {
     "data": {
      "text/plain": [
       "1"
      ]
     },
     "execution_count": 25,
     "metadata": {},
     "output_type": "execute_result"
    }
   ],
   "source": [
    "# 9. Knowing the Dimensions of the NumPy Array\n",
    "x = np.array([1,2,3])\n",
    "x.ndim # corrected"
   ]
  },
  {
   "cell_type": "code",
   "execution_count": null,
   "id": "05784637",
   "metadata": {},
   "outputs": [],
   "source": [
    "# 10. Finding the Number of Elements in the NumPy Array"
   ]
  },
  {
   "cell_type": "code",
   "execution_count": 28,
   "id": "64030013",
   "metadata": {},
   "outputs": [
    {
     "name": "stdout",
     "output_type": "stream",
     "text": [
      "[[[1 1 1 1]\n",
      "  [1 1 1 1]]\n",
      "\n",
      " [[1 1 1 1]\n",
      "  [1 1 1 1]]\n",
      "\n",
      " [[1 1 1 1]\n",
      "  [1 1 1 1]]]\n"
     ]
    },
    {
     "data": {
      "text/plain": [
       "24"
      ]
     },
     "execution_count": 28,
     "metadata": {},
     "output_type": "execute_result"
    }
   ],
   "source": [
    "x=np.ones((3,2,4),dtype=np.int16)\n",
    "print(x) #new\n",
    "x.size #corrected"
   ]
  },
  {
   "cell_type": "code",
   "execution_count": 29,
   "id": "d774d0b1",
   "metadata": {},
   "outputs": [
    {
     "data": {
      "text/plain": [
       "48"
      ]
     },
     "execution_count": 29,
     "metadata": {},
     "output_type": "execute_result"
    }
   ],
   "source": [
    "# 11. Get the Memory Space Occupied by an n-dimensional Array\n",
    "x.nbytes"
   ]
  },
  {
   "cell_type": "code",
   "execution_count": 32,
   "id": "43aad827",
   "metadata": {},
   "outputs": [
    {
     "data": {
      "text/plain": [
       "dtype('int16')"
      ]
     },
     "execution_count": 32,
     "metadata": {},
     "output_type": "execute_result"
    }
   ],
   "source": [
    "#12. Finding the Data Type of Elements in the NumPy Array\n",
    "x = np.ones((2,3), dtype = np.int16)\n",
    "x.dtype"
   ]
  },
  {
   "cell_type": "code",
   "execution_count": 34,
   "id": "19a25e29",
   "metadata": {},
   "outputs": [
    {
     "data": {
      "text/plain": [
       "array([[1, 3],\n",
       "       [5, 6]])"
      ]
     },
     "execution_count": 34,
     "metadata": {},
     "output_type": "execute_result"
    }
   ],
   "source": [
    "#13. How to Create a Copy of NumPy Array\n",
    "y = np.array([[1,3], [5,6]])\n",
    "y"
   ]
  },
  {
   "cell_type": "code",
   "execution_count": 35,
   "id": "5071f487",
   "metadata": {},
   "outputs": [
    {
     "data": {
      "text/plain": [
       "array([[1, 3],\n",
       "       [5, 6]])"
      ]
     },
     "execution_count": 35,
     "metadata": {},
     "output_type": "execute_result"
    }
   ],
   "source": [
    "x = np.copy(y)\n",
    "x"
   ]
  },
  {
   "cell_type": "code",
   "execution_count": 36,
   "id": "7538f94d",
   "metadata": {},
   "outputs": [
    {
     "data": {
      "text/plain": [
       "array([[1000,    3],\n",
       "       [   5,    6]])"
      ]
     },
     "execution_count": 36,
     "metadata": {},
     "output_type": "execute_result"
    }
   ],
   "source": [
    "# new cell \n",
    "x[0, 0] = 1000 # corrected\n",
    "x # corrected "
   ]
  },
  {
   "cell_type": "code",
   "execution_count": 37,
   "id": "31156ec2",
   "metadata": {},
   "outputs": [
    {
     "data": {
      "text/plain": [
       "array([[1, 3],\n",
       "       [5, 6]])"
      ]
     },
     "execution_count": 37,
     "metadata": {},
     "output_type": "execute_result"
    }
   ],
   "source": [
    "y # corrected"
   ]
  },
  {
   "cell_type": "code",
   "execution_count": 38,
   "id": "deec49c8",
   "metadata": {},
   "outputs": [
    {
     "data": {
      "text/plain": [
       "array([[1, 2],\n",
       "       [3, 4]])"
      ]
     },
     "execution_count": 38,
     "metadata": {},
     "output_type": "execute_result"
    }
   ],
   "source": [
    "# 14. Get Transpose of an n-d Array\n",
    "x = np.array([[1,2],[3,4]])\n",
    "x"
   ]
  },
  {
   "cell_type": "code",
   "execution_count": 39,
   "id": "817ae1ef",
   "metadata": {},
   "outputs": [
    {
     "data": {
      "text/plain": [
       "array([[1, 3],\n",
       "       [2, 4]])"
      ]
     },
     "execution_count": 39,
     "metadata": {},
     "output_type": "execute_result"
    }
   ],
   "source": [
    "x.T"
   ]
  },
  {
   "cell_type": "code",
   "execution_count": null,
   "id": "29dd5851",
   "metadata": {},
   "outputs": [],
   "source": [
    "#15. Flatten an n-d Array to get a One-dimensional Array"
   ]
  },
  {
   "cell_type": "code",
   "execution_count": 40,
   "id": "e2bd8b41",
   "metadata": {},
   "outputs": [
    {
     "data": {
      "text/plain": [
       "array([1, 2, 3, 4])"
      ]
     },
     "execution_count": 40,
     "metadata": {},
     "output_type": "execute_result"
    }
   ],
   "source": [
    "x.reshape(-1)"
   ]
  },
  {
   "cell_type": "code",
   "execution_count": 42,
   "id": "67459484",
   "metadata": {},
   "outputs": [
    {
     "data": {
      "text/plain": [
       "array([1, 2, 3, 4])"
      ]
     },
     "execution_count": 42,
     "metadata": {},
     "output_type": "execute_result"
    }
   ],
   "source": [
    "x.ravel()"
   ]
  },
  {
   "cell_type": "code",
   "execution_count": 43,
   "id": "f86d6b6b",
   "metadata": {
    "scrolled": true
   },
   "outputs": [
    {
     "data": {
      "text/plain": [
       "array([[[1., 1., 1., 1., 1.],\n",
       "        [1., 1., 1., 1., 1.],\n",
       "        [1., 1., 1., 1., 1.],\n",
       "        [1., 1., 1., 1., 1.]],\n",
       "\n",
       "       [[1., 1., 1., 1., 1.],\n",
       "        [1., 1., 1., 1., 1.],\n",
       "        [1., 1., 1., 1., 1.],\n",
       "        [1., 1., 1., 1., 1.]],\n",
       "\n",
       "       [[1., 1., 1., 1., 1.],\n",
       "        [1., 1., 1., 1., 1.],\n",
       "        [1., 1., 1., 1., 1.],\n",
       "        [1., 1., 1., 1., 1.]]])"
      ]
     },
     "execution_count": 43,
     "metadata": {},
     "output_type": "execute_result"
    }
   ],
   "source": [
    "#16. Change Axes of an n-d Array or Swap Dimensions¶\n",
    "x = np.ones((3,4,5))\n",
    "x # new"
   ]
  },
  {
   "cell_type": "code",
   "execution_count": 45,
   "id": "fb3ff042",
   "metadata": {},
   "outputs": [
    {
     "data": {
      "text/plain": [
       "array([[[1., 1., 1.],\n",
       "        [1., 1., 1.],\n",
       "        [1., 1., 1.],\n",
       "        [1., 1., 1.],\n",
       "        [1., 1., 1.]],\n",
       "\n",
       "       [[1., 1., 1.],\n",
       "        [1., 1., 1.],\n",
       "        [1., 1., 1.],\n",
       "        [1., 1., 1.],\n",
       "        [1., 1., 1.]],\n",
       "\n",
       "       [[1., 1., 1.],\n",
       "        [1., 1., 1.],\n",
       "        [1., 1., 1.],\n",
       "        [1., 1., 1.],\n",
       "        [1., 1., 1.]],\n",
       "\n",
       "       [[1., 1., 1.],\n",
       "        [1., 1., 1.],\n",
       "        [1., 1., 1.],\n",
       "        [1., 1., 1.],\n",
       "        [1., 1., 1.]]])"
      ]
     },
     "execution_count": 45,
     "metadata": {},
     "output_type": "execute_result"
    }
   ],
   "source": [
    "# new cell\n",
    "\n",
    "# code below put in a comment \n",
    "# np.moveaxis(x,axes_to_move_as_list, destination_axes_as_list)\n",
    "np.moveaxis(x,[1,2], [0,-2]) #corrected"
   ]
  },
  {
   "cell_type": "code",
   "execution_count": 46,
   "id": "8364726b",
   "metadata": {},
   "outputs": [
    {
     "data": {
      "text/plain": [
       "array([[[1., 1., 1., 1., 1.],\n",
       "        [1., 1., 1., 1., 1.],\n",
       "        [1., 1., 1., 1., 1.],\n",
       "        [1., 1., 1., 1., 1.]],\n",
       "\n",
       "       [[1., 1., 1., 1., 1.],\n",
       "        [1., 1., 1., 1., 1.],\n",
       "        [1., 1., 1., 1., 1.],\n",
       "        [1., 1., 1., 1., 1.]],\n",
       "\n",
       "       [[1., 1., 1., 1., 1.],\n",
       "        [1., 1., 1., 1., 1.],\n",
       "        [1., 1., 1., 1., 1.],\n",
       "        [1., 1., 1., 1., 1.]]])"
      ]
     },
     "execution_count": 46,
     "metadata": {},
     "output_type": "execute_result"
    }
   ],
   "source": [
    "#1st axis is moved to 0th axis, and the 2nd axis to the second last axis. So, the new shape is (4,5,3).\n",
    "#The conversion is not in place, so don’t forget to store it in another variable.\n",
    "x #new"
   ]
  },
  {
   "cell_type": "code",
   "execution_count": 47,
   "id": "f49e80ab",
   "metadata": {},
   "outputs": [
    {
     "name": "stdout",
     "output_type": "stream",
     "text": [
      "[[1 2]\n",
      " [3 4]]\n"
     ]
    }
   ],
   "source": [
    "x = np.array([[1,2],[3,4]])\n",
    "x.shape\n",
    "print(x)"
   ]
  },
  {
   "cell_type": "code",
   "execution_count": 48,
   "id": "b8c6fdad",
   "metadata": {},
   "outputs": [
    {
     "data": {
      "text/plain": [
       "array([[1, 3],\n",
       "       [2, 4]])"
      ]
     },
     "execution_count": 48,
     "metadata": {},
     "output_type": "execute_result"
    }
   ],
   "source": [
    "#new cell\n",
    "np.swapaxes(x,0,1)"
   ]
  },
  {
   "cell_type": "code",
   "execution_count": null,
   "id": "a50792db",
   "metadata": {},
   "outputs": [],
   "source": [
    "#17. Convert NumPy Array to List"
   ]
  },
  {
   "cell_type": "code",
   "execution_count": 49,
   "id": "7c1d97ea",
   "metadata": {},
   "outputs": [
    {
     "name": "stdout",
     "output_type": "stream",
     "text": [
      "[[3, 4, 5, 9], [2, 6, 8, 10]]\n"
     ]
    },
    {
     "data": {
      "text/plain": [
       "list"
      ]
     },
     "execution_count": 49,
     "metadata": {},
     "output_type": "execute_result"
    }
   ],
   "source": [
    "x = np.array([[3,4,5,9], [2,6,8,10]])\n",
    "y = x.tolist()\n",
    "print(y) #new\n",
    "type(y) #corrected"
   ]
  },
  {
   "cell_type": "code",
   "execution_count": 50,
   "id": "472f5e4a",
   "metadata": {},
   "outputs": [
    {
     "data": {
      "text/plain": [
       "array([0. , 1. , 2. , 3. , 4.2], dtype=float32)"
      ]
     },
     "execution_count": 50,
     "metadata": {},
     "output_type": "execute_result"
    }
   ],
   "source": [
    "#18. Change the Data Type of Elements in the NumPy Array¶\n",
    "x = np.array([0,1,2.0,3.0,4.2],dtype=np.float32)\n",
    "x #new"
   ]
  },
  {
   "cell_type": "code",
   "execution_count": 51,
   "id": "92135b65",
   "metadata": {},
   "outputs": [
    {
     "name": "stderr",
     "output_type": "stream",
     "text": [
      "C:\\Users\\sayre\\AppData\\Local\\Temp/ipykernel_14092/2230235292.py:1: DeprecationWarning: `np.bool` is a deprecated alias for the builtin `bool`. To silence this warning, use `bool` by itself. Doing this will not modify any behavior and is safe. If you specifically wanted the numpy scalar type, use `np.bool_` here.\n",
      "Deprecated in NumPy 1.20; for more details and guidance: https://numpy.org/devdocs/release/1.20.0-notes.html#deprecations\n",
      "  x.astype(np.bool)\n"
     ]
    },
    {
     "data": {
      "text/plain": [
       "array([False,  True,  True,  True,  True])"
      ]
     },
     "execution_count": 51,
     "metadata": {},
     "output_type": "execute_result"
    }
   ],
   "source": [
    "x.astype(np.bool)"
   ]
  },
  {
   "cell_type": "code",
   "execution_count": 53,
   "id": "a34f87b0",
   "metadata": {},
   "outputs": [
    {
     "data": {
      "text/plain": [
       "(array([1, 2, 3, 4], dtype=int64),)"
      ]
     },
     "execution_count": 53,
     "metadata": {},
     "output_type": "execute_result"
    }
   ],
   "source": [
    "#19. Get Indices of Non-zero Elements¶\n",
    "x=np.array([0,1,2.0,3.0,4.2], dtype = np.float32)\n",
    "x.nonzero()"
   ]
  },
  {
   "cell_type": "code",
   "execution_count": 56,
   "id": "84fe7395",
   "metadata": {},
   "outputs": [
    {
     "data": {
      "text/plain": [
       "(array([0, 1, 1], dtype=int64), array([1, 0, 1], dtype=int64))"
      ]
     },
     "execution_count": 56,
     "metadata": {},
     "output_type": "execute_result"
    }
   ],
   "source": [
    "x = np.array([[0,1],[3,5]])\n",
    "x.nonzero()"
   ]
  },
  {
   "cell_type": "code",
   "execution_count": null,
   "id": "ab4c530b",
   "metadata": {},
   "outputs": [],
   "source": [
    "#20. Sort NumPy Array"
   ]
  },
  {
   "cell_type": "code",
   "execution_count": 57,
   "id": "eddf9628",
   "metadata": {},
   "outputs": [
    {
     "data": {
      "text/plain": [
       "array([[4, 3],\n",
       "       [3, 2]])"
      ]
     },
     "execution_count": 57,
     "metadata": {},
     "output_type": "execute_result"
    }
   ],
   "source": [
    "x = np.array([[4,3],[3,2]]) # corrected\n",
    "x\n"
   ]
  },
  {
   "cell_type": "code",
   "execution_count": null,
   "id": "02867fc9",
   "metadata": {},
   "outputs": [],
   "source": []
  },
  {
   "cell_type": "code",
   "execution_count": 61,
   "id": "1069809b",
   "metadata": {},
   "outputs": [
    {
     "data": {
      "text/plain": [
       "array([[3, 4],\n",
       "       [2, 3]])"
      ]
     },
     "execution_count": 61,
     "metadata": {},
     "output_type": "execute_result"
    }
   ],
   "source": [
    "#new cell\n",
    "x.sort(axis=1)\n",
    "x"
   ]
  },
  {
   "cell_type": "code",
   "execution_count": 63,
   "id": "d8f9684e",
   "metadata": {},
   "outputs": [
    {
     "data": {
      "text/plain": [
       "array([[2, 3],\n",
       "       [3, 4]])"
      ]
     },
     "execution_count": 63,
     "metadata": {},
     "output_type": "execute_result"
    }
   ],
   "source": [
    "x.sort(axis=0)\n",
    "x"
   ]
  },
  {
   "cell_type": "code",
   "execution_count": null,
   "id": "f62f716c",
   "metadata": {},
   "outputs": [],
   "source": [
    "# 21. Compare NumPy Arrays to Values"
   ]
  },
  {
   "cell_type": "code",
   "execution_count": 65,
   "id": "478db0e5",
   "metadata": {},
   "outputs": [
    {
     "data": {
      "text/plain": [
       "array([[False,  True],\n",
       "       [False, False]])"
      ]
     },
     "execution_count": 65,
     "metadata": {},
     "output_type": "execute_result"
    }
   ],
   "source": [
    "x = np.array([[0,1],[2,3]])\n",
    "x == 1"
   ]
  },
  {
   "cell_type": "code",
   "execution_count": 66,
   "id": "64fb19be",
   "metadata": {},
   "outputs": [
    {
     "data": {
      "text/plain": [
       "1"
      ]
     },
     "execution_count": 66,
     "metadata": {},
     "output_type": "execute_result"
    }
   ],
   "source": [
    "(x == 1).astype(np.int16).sum()"
   ]
  },
  {
   "cell_type": "code",
   "execution_count": null,
   "id": "d700f82a",
   "metadata": {},
   "outputs": [],
   "source": [
    "# 22. Multiply Two NumPy Matrices"
   ]
  },
  {
   "cell_type": "code",
   "execution_count": 67,
   "id": "8142b6eb",
   "metadata": {},
   "outputs": [
    {
     "data": {
      "text/plain": [
       "array([[1., 0.],\n",
       "       [0., 1.]])"
      ]
     },
     "execution_count": 67,
     "metadata": {},
     "output_type": "execute_result"
    }
   ],
   "source": [
    "a = np.eye(2)\n",
    "a"
   ]
  },
  {
   "cell_type": "code",
   "execution_count": 69,
   "id": "88b6afc8",
   "metadata": {},
   "outputs": [
    {
     "data": {
      "text/plain": [
       "array([[1, 2],\n",
       "       [3, 4]])"
      ]
     },
     "execution_count": 69,
     "metadata": {},
     "output_type": "execute_result"
    }
   ],
   "source": [
    "# new cell\n",
    "b = np.array([[1,2],[3,4]])\n",
    "b"
   ]
  },
  {
   "cell_type": "code",
   "execution_count": 70,
   "id": "9485796f",
   "metadata": {},
   "outputs": [
    {
     "data": {
      "text/plain": [
       "array([[1., 2.],\n",
       "       [3., 4.]])"
      ]
     },
     "execution_count": 70,
     "metadata": {},
     "output_type": "execute_result"
    }
   ],
   "source": [
    "np.matmul(a,b)"
   ]
  },
  {
   "cell_type": "code",
   "execution_count": 71,
   "id": "b4c371b6",
   "metadata": {},
   "outputs": [
    {
     "data": {
      "text/plain": [
       "array([[1., 0.],\n",
       "       [0., 4.]])"
      ]
     },
     "execution_count": 71,
     "metadata": {},
     "output_type": "execute_result"
    }
   ],
   "source": [
    "np.multiply(a,b)"
   ]
  },
  {
   "cell_type": "code",
   "execution_count": null,
   "id": "7dae7337",
   "metadata": {},
   "outputs": [],
   "source": [
    "# 23. Dot Product of Two Arrays"
   ]
  },
  {
   "cell_type": "code",
   "execution_count": 73,
   "id": "728d42f9",
   "metadata": {},
   "outputs": [
    {
     "data": {
      "text/plain": [
       "array([[ 1,  2,  3],\n",
       "       [ 4,  8, 16]])"
      ]
     },
     "execution_count": 73,
     "metadata": {},
     "output_type": "execute_result"
    }
   ],
   "source": [
    "a = np.array([[1,2,3],[4,8,16]])\n",
    "a # corrected"
   ]
  },
  {
   "cell_type": "code",
   "execution_count": 74,
   "id": "51af554d",
   "metadata": {},
   "outputs": [
    {
     "data": {
      "text/plain": [
       "array([[ 5],\n",
       "       [ 6],\n",
       "       [11]])"
      ]
     },
     "execution_count": 74,
     "metadata": {},
     "output_type": "execute_result"
    }
   ],
   "source": [
    "b = np.array([5,6,11]).reshape(-1,1)\n",
    "b # corrected"
   ]
  },
  {
   "cell_type": "code",
   "execution_count": 75,
   "id": "9b105b8e",
   "metadata": {},
   "outputs": [
    {
     "data": {
      "text/plain": [
       "array([[ 50],\n",
       "       [244]])"
      ]
     },
     "execution_count": 75,
     "metadata": {},
     "output_type": "execute_result"
    }
   ],
   "source": [
    "np.dot(a,b)"
   ]
  },
  {
   "cell_type": "code",
   "execution_count": 76,
   "id": "a0e4728d",
   "metadata": {},
   "outputs": [
    {
     "data": {
      "text/plain": [
       "array([[1, 2, 3, 4]])"
      ]
     },
     "execution_count": 76,
     "metadata": {},
     "output_type": "execute_result"
    }
   ],
   "source": [
    "a = np.array([[1, 2, 3, 4]]) # corrected\n",
    "a # new "
   ]
  },
  {
   "cell_type": "code",
   "execution_count": 77,
   "id": "01dbded0",
   "metadata": {},
   "outputs": [
    {
     "data": {
      "text/plain": [
       "array([[4],\n",
       "       [5],\n",
       "       [6],\n",
       "       [7]])"
      ]
     },
     "execution_count": 77,
     "metadata": {},
     "output_type": "execute_result"
    }
   ],
   "source": [
    "# new cell \n",
    "\n",
    "b = np.array([4,5,6,7]).reshape(-1,1)\n",
    "b # corrected"
   ]
  },
  {
   "cell_type": "code",
   "execution_count": 78,
   "id": "2f3c93e1",
   "metadata": {},
   "outputs": [
    {
     "data": {
      "text/plain": [
       "array([[60]])"
      ]
     },
     "execution_count": 78,
     "metadata": {},
     "output_type": "execute_result"
    }
   ],
   "source": [
    "np.dot(a,b) # corrected "
   ]
  },
  {
   "cell_type": "code",
   "execution_count": 79,
   "id": "fec7e179",
   "metadata": {},
   "outputs": [
    {
     "data": {
      "text/plain": [
       "array([-3,  6, -3])"
      ]
     },
     "execution_count": 79,
     "metadata": {},
     "output_type": "execute_result"
    }
   ],
   "source": [
    "# 24. Get Cross-product of Two NumPy Vectors\n",
    "x = [1,2,3]\n",
    "y = [4,5,6]\n",
    "z = np.cross(x, y)\n",
    "z # corrected"
   ]
  },
  {
   "cell_type": "code",
   "execution_count": null,
   "id": "f9e43859",
   "metadata": {},
   "outputs": [],
   "source": [
    "#25. Getting Gradient of an Array"
   ]
  },
  {
   "cell_type": "code",
   "execution_count": 80,
   "id": "62fbaf90",
   "metadata": {},
   "outputs": [
    {
     "data": {
      "text/plain": [
       "array([5. , 4.5, 3.5, 2.5, 4.5, 7. ], dtype=float16)"
      ]
     },
     "execution_count": 80,
     "metadata": {},
     "output_type": "execute_result"
    }
   ],
   "source": [
    "x = np.array([5, 10, 14, 17, 19, 26], dtype=np.float16)\n",
    "np.gradient(x) # corrected "
   ]
  },
  {
   "cell_type": "code",
   "execution_count": null,
   "id": "2c260437",
   "metadata": {},
   "outputs": [],
   "source": [
    "#26. How to Slice NumPy Array?"
   ]
  },
  {
   "cell_type": "code",
   "execution_count": 81,
   "id": "43185142",
   "metadata": {},
   "outputs": [
    {
     "data": {
      "text/plain": [
       "array([[2, 4, 9],\n",
       "       [3, 1, 5],\n",
       "       [7, 8, 0]])"
      ]
     },
     "execution_count": 81,
     "metadata": {},
     "output_type": "execute_result"
    }
   ],
   "source": [
    "# entire cell rewritten, new cells added \n",
    "\n",
    "x = np.array([[2,4,9],[3,1,5],[7,8,0]]) # new\n",
    "x # new"
   ]
  },
  {
   "cell_type": "code",
   "execution_count": 82,
   "id": "7ea099a2",
   "metadata": {},
   "outputs": [
    {
     "data": {
      "text/plain": [
       "5"
      ]
     },
     "execution_count": 82,
     "metadata": {},
     "output_type": "execute_result"
    }
   ],
   "source": [
    "x[1,2] # new "
   ]
  },
  {
   "cell_type": "code",
   "execution_count": 83,
   "id": "d1354e62",
   "metadata": {},
   "outputs": [
    {
     "data": {
      "text/plain": [
       "array([2, 4, 7, 8])"
      ]
     },
     "execution_count": 83,
     "metadata": {},
     "output_type": "execute_result"
    }
   ],
   "source": [
    "# new cell \n",
    "\n",
    "# For multiple, non-contiguous elements use:\n",
    "# x[list_of_rows,list_of_cols]\n",
    "x[[0,0,2,2],[0,1,0,1]] # corrected"
   ]
  },
  {
   "cell_type": "code",
   "execution_count": 84,
   "id": "c1f61ab6",
   "metadata": {},
   "outputs": [
    {
     "data": {
      "text/plain": [
       "array([[2, 4],\n",
       "       [7, 8]])"
      ]
     },
     "execution_count": 84,
     "metadata": {},
     "output_type": "execute_result"
    }
   ],
   "source": [
    "# new cell \n",
    "\n",
    "# If one of the rows or cols are continuous, \n",
    "# it's easier to use a range of indices: \n",
    "x[[0,2],0:2] # corrected "
   ]
  },
  {
   "cell_type": "code",
   "execution_count": null,
   "id": "4e8d4af2",
   "metadata": {},
   "outputs": [],
   "source": [
    "#27. Broadcasting"
   ]
  },
  {
   "cell_type": "code",
   "execution_count": 85,
   "id": "7cbc5b18",
   "metadata": {},
   "outputs": [
    {
     "data": {
      "text/plain": [
       "array([[3, 5, 8],\n",
       "       [4, 5, 6],\n",
       "       [9, 7, 2]])"
      ]
     },
     "execution_count": 85,
     "metadata": {},
     "output_type": "execute_result"
    }
   ],
   "source": [
    "a = np.array([[3,5,8],[4,5,6],[9,7,2]]) # corrected\n",
    "a # new"
   ]
  },
  {
   "cell_type": "code",
   "execution_count": 86,
   "id": "f0c83977",
   "metadata": {},
   "outputs": [
    {
     "data": {
      "text/plain": [
       "array([2, 3, 4])"
      ]
     },
     "execution_count": 86,
     "metadata": {},
     "output_type": "execute_result"
    }
   ],
   "source": [
    "# new cell\n",
    "\n",
    "b = np.array([2,3,4]) # corrected\n",
    "b # new"
   ]
  },
  {
   "cell_type": "code",
   "execution_count": 87,
   "id": "6df3d79b",
   "metadata": {},
   "outputs": [
    {
     "data": {
      "text/plain": [
       "(3, 3)"
      ]
     },
     "execution_count": 87,
     "metadata": {},
     "output_type": "execute_result"
    }
   ],
   "source": [
    "a.shape"
   ]
  },
  {
   "cell_type": "code",
   "execution_count": 88,
   "id": "f7b02d72",
   "metadata": {},
   "outputs": [
    {
     "data": {
      "text/plain": [
       "(3,)"
      ]
     },
     "execution_count": 88,
     "metadata": {},
     "output_type": "execute_result"
    }
   ],
   "source": [
    "b.shape\n"
   ]
  },
  {
   "cell_type": "code",
   "execution_count": 89,
   "id": "2ed2c32f",
   "metadata": {},
   "outputs": [
    {
     "data": {
      "text/plain": [
       "array([[2, 3, 4],\n",
       "       [2, 3, 4],\n",
       "       [2, 3, 4]])"
      ]
     },
     "execution_count": 89,
     "metadata": {},
     "output_type": "execute_result"
    }
   ],
   "source": [
    "np.array([[2,3,4], [2,3,4], [2,3,4]])"
   ]
  },
  {
   "cell_type": "code",
   "execution_count": 90,
   "id": "dde6f33c",
   "metadata": {},
   "outputs": [
    {
     "data": {
      "text/plain": [
       "array([[ 5,  8, 12],\n",
       "       [ 6,  8, 10],\n",
       "       [11, 10,  6]])"
      ]
     },
     "execution_count": 90,
     "metadata": {},
     "output_type": "execute_result"
    }
   ],
   "source": [
    "# new cell\n",
    " \n",
    "a + b # corrected "
   ]
  },
  {
   "cell_type": "code",
   "execution_count": null,
   "id": "45f9ba1b",
   "metadata": {},
   "outputs": [],
   "source": []
  },
  {
   "cell_type": "code",
   "execution_count": null,
   "id": "a7e8e15e",
   "metadata": {},
   "outputs": [],
   "source": []
  },
  {
   "cell_type": "markdown",
   "id": "ec665af8",
   "metadata": {},
   "source": [
    "## Pandas"
   ]
  },
  {
   "cell_type": "code",
   "execution_count": 91,
   "id": "dfe2c264",
   "metadata": {},
   "outputs": [],
   "source": [
    "import pandas as pd\n",
    "import numpy as np"
   ]
  },
  {
   "cell_type": "code",
   "execution_count": 93,
   "id": "98cda0c9",
   "metadata": {},
   "outputs": [
    {
     "data": {
      "text/html": [
       "<div>\n",
       "<style scoped>\n",
       "    .dataframe tbody tr th:only-of-type {\n",
       "        vertical-align: middle;\n",
       "    }\n",
       "\n",
       "    .dataframe tbody tr th {\n",
       "        vertical-align: top;\n",
       "    }\n",
       "\n",
       "    .dataframe thead th {\n",
       "        text-align: right;\n",
       "    }\n",
       "</style>\n",
       "<table border=\"1\" class=\"dataframe\">\n",
       "  <thead>\n",
       "    <tr style=\"text-align: right;\">\n",
       "      <th></th>\n",
       "      <th>Votes</th>\n",
       "      <th>Rank</th>\n",
       "      <th>Title</th>\n",
       "      <th>Year</th>\n",
       "      <th>Decade</th>\n",
       "    </tr>\n",
       "  </thead>\n",
       "  <tbody>\n",
       "    <tr>\n",
       "      <th>1</th>\n",
       "      <td>132823</td>\n",
       "      <td>8.3</td>\n",
       "      <td>Singin' in the Rain (1952)</td>\n",
       "      <td>1952</td>\n",
       "      <td>1950</td>\n",
       "    </tr>\n",
       "    <tr>\n",
       "      <th>2</th>\n",
       "      <td>74178</td>\n",
       "      <td>8.3</td>\n",
       "      <td>All About Eve (1950)</td>\n",
       "      <td>1950</td>\n",
       "      <td>1950</td>\n",
       "    </tr>\n",
       "    <tr>\n",
       "      <th>3</th>\n",
       "      <td>635139</td>\n",
       "      <td>8.6</td>\n",
       "      <td>Léon (1994)</td>\n",
       "      <td>1994</td>\n",
       "      <td>1990</td>\n",
       "    </tr>\n",
       "    <tr>\n",
       "      <th>4</th>\n",
       "      <td>145514</td>\n",
       "      <td>8.2</td>\n",
       "      <td>The Elephant Man (1980)</td>\n",
       "      <td>1980</td>\n",
       "      <td>1980</td>\n",
       "    </tr>\n",
       "    <tr>\n",
       "      <th>5</th>\n",
       "      <td>425461</td>\n",
       "      <td>8.3</td>\n",
       "      <td>Full Metal Jacket (1987)</td>\n",
       "      <td>1987</td>\n",
       "      <td>1980</td>\n",
       "    </tr>\n",
       "  </tbody>\n",
       "</table>\n",
       "</div>"
      ],
      "text/plain": [
       "    Votes  Rank                       Title  Year  Decade\n",
       "1  132823   8.3  Singin' in the Rain (1952)  1952    1950\n",
       "2   74178   8.3        All About Eve (1950)  1950    1950\n",
       "3  635139   8.6                 Léon (1994)  1994    1990\n",
       "4  145514   8.2     The Elephant Man (1980)  1980    1980\n",
       "5  425461   8.3    Full Metal Jacket (1987)  1987    1980"
      ]
     },
     "execution_count": 93,
     "metadata": {},
     "output_type": "execute_result"
    }
   ],
   "source": [
    "#1. How to read data from a CSV file or a text file?\n",
    "df_1 = pd.read_csv(\"imdb_ratings.csv\")\n",
    "# relabel index to start at 1 \n",
    "df_1 = df_1.reindex(index=np.arange(1, df_1.shape[0], 1))\n",
    "df_1.head()"
   ]
  },
  {
   "cell_type": "code",
   "execution_count": 94,
   "id": "05873812",
   "metadata": {},
   "outputs": [
    {
     "data": {
      "text/plain": [
       "{'states': ['Ohio', 'Ohio', 'Ohio', 'Nevada', 'Nevada', 'Nevada'],\n",
       " 'year': [2000, 2001, 2002, 2001, 2002, 2003],\n",
       " 'pop': [1.5, 0.17, 3.6, 2.4, 2.9, 3.2]}"
      ]
     },
     "execution_count": 94,
     "metadata": {},
     "output_type": "execute_result"
    }
   ],
   "source": [
    "#2. How to create a data frame using a dictionary of pre-existing columns or NumPy 2D arrays?\n",
    "dic_1 = {'states': ['Ohio', 'Ohio', 'Ohio', 'Nevada', 'Nevada', 'Nevada'],\n",
    "         'year': [2000, 2001, 2002, 2001, 2002, 2003],\n",
    "         'pop': [1.5, .17, 3.6, 2.4, 2.9, 3.2]} \n",
    "dic_1"
   ]
  },
  {
   "cell_type": "code",
   "execution_count": 95,
   "id": "2ab4359c",
   "metadata": {},
   "outputs": [
    {
     "data": {
      "text/html": [
       "<div>\n",
       "<style scoped>\n",
       "    .dataframe tbody tr th:only-of-type {\n",
       "        vertical-align: middle;\n",
       "    }\n",
       "\n",
       "    .dataframe tbody tr th {\n",
       "        vertical-align: top;\n",
       "    }\n",
       "\n",
       "    .dataframe thead th {\n",
       "        text-align: right;\n",
       "    }\n",
       "</style>\n",
       "<table border=\"1\" class=\"dataframe\">\n",
       "  <thead>\n",
       "    <tr style=\"text-align: right;\">\n",
       "      <th></th>\n",
       "      <th>states</th>\n",
       "      <th>year</th>\n",
       "      <th>pop</th>\n",
       "    </tr>\n",
       "  </thead>\n",
       "  <tbody>\n",
       "    <tr>\n",
       "      <th>0</th>\n",
       "      <td>Ohio</td>\n",
       "      <td>2000</td>\n",
       "      <td>1.50</td>\n",
       "    </tr>\n",
       "    <tr>\n",
       "      <th>1</th>\n",
       "      <td>Ohio</td>\n",
       "      <td>2001</td>\n",
       "      <td>0.17</td>\n",
       "    </tr>\n",
       "    <tr>\n",
       "      <th>2</th>\n",
       "      <td>Ohio</td>\n",
       "      <td>2002</td>\n",
       "      <td>3.60</td>\n",
       "    </tr>\n",
       "    <tr>\n",
       "      <th>3</th>\n",
       "      <td>Nevada</td>\n",
       "      <td>2001</td>\n",
       "      <td>2.40</td>\n",
       "    </tr>\n",
       "    <tr>\n",
       "      <th>4</th>\n",
       "      <td>Nevada</td>\n",
       "      <td>2002</td>\n",
       "      <td>2.90</td>\n",
       "    </tr>\n",
       "    <tr>\n",
       "      <th>5</th>\n",
       "      <td>Nevada</td>\n",
       "      <td>2003</td>\n",
       "      <td>3.20</td>\n",
       "    </tr>\n",
       "  </tbody>\n",
       "</table>\n",
       "</div>"
      ],
      "text/plain": [
       "   states  year   pop\n",
       "0    Ohio  2000  1.50\n",
       "1    Ohio  2001  0.17\n",
       "2    Ohio  2002  3.60\n",
       "3  Nevada  2001  2.40\n",
       "4  Nevada  2002  2.90\n",
       "5  Nevada  2003  3.20"
      ]
     },
     "execution_count": 95,
     "metadata": {},
     "output_type": "execute_result"
    }
   ],
   "source": [
    "df_2 = pd.DataFrame(data=dic_1)\n",
    "df_2"
   ]
  },
  {
   "cell_type": "code",
   "execution_count": 96,
   "id": "19bf98ee",
   "metadata": {},
   "outputs": [
    {
     "data": {
      "text/plain": [
       "array([[6. , 7.5, 8. ],\n",
       "       [0. , 1. , 2. ],\n",
       "       [4. , 2. , 6. ]])"
      ]
     },
     "execution_count": 96,
     "metadata": {},
     "output_type": "execute_result"
    }
   ],
   "source": [
    "np_data_1 = np.array([[6, 7.5, 8], [0, 1, 2.0], [4, 2, 6]])\n",
    "np_data_1"
   ]
  },
  {
   "cell_type": "code",
   "execution_count": 97,
   "id": "85a2c890",
   "metadata": {},
   "outputs": [],
   "source": [
    "col_names = ['Joe', 'Ben', 'Ann']"
   ]
  },
  {
   "cell_type": "code",
   "execution_count": 98,
   "id": "ba87b6f0",
   "metadata": {},
   "outputs": [
    {
     "data": {
      "text/html": [
       "<div>\n",
       "<style scoped>\n",
       "    .dataframe tbody tr th:only-of-type {\n",
       "        vertical-align: middle;\n",
       "    }\n",
       "\n",
       "    .dataframe tbody tr th {\n",
       "        vertical-align: top;\n",
       "    }\n",
       "\n",
       "    .dataframe thead th {\n",
       "        text-align: right;\n",
       "    }\n",
       "</style>\n",
       "<table border=\"1\" class=\"dataframe\">\n",
       "  <thead>\n",
       "    <tr style=\"text-align: right;\">\n",
       "      <th></th>\n",
       "      <th>Joe</th>\n",
       "      <th>Ben</th>\n",
       "      <th>Ann</th>\n",
       "    </tr>\n",
       "  </thead>\n",
       "  <tbody>\n",
       "    <tr>\n",
       "      <th>0</th>\n",
       "      <td>6.0</td>\n",
       "      <td>7.5</td>\n",
       "      <td>8.0</td>\n",
       "    </tr>\n",
       "    <tr>\n",
       "      <th>1</th>\n",
       "      <td>0.0</td>\n",
       "      <td>1.0</td>\n",
       "      <td>2.0</td>\n",
       "    </tr>\n",
       "    <tr>\n",
       "      <th>2</th>\n",
       "      <td>4.0</td>\n",
       "      <td>2.0</td>\n",
       "      <td>6.0</td>\n",
       "    </tr>\n",
       "  </tbody>\n",
       "</table>\n",
       "</div>"
      ],
      "text/plain": [
       "   Joe  Ben  Ann\n",
       "0  6.0  7.5  8.0\n",
       "1  0.0  1.0  2.0\n",
       "2  4.0  2.0  6.0"
      ]
     },
     "execution_count": 98,
     "metadata": {},
     "output_type": "execute_result"
    }
   ],
   "source": [
    "df_3 = pd.DataFrame(data=np_data_1, columns=col_names)\n",
    "df_3"
   ]
  },
  {
   "cell_type": "code",
   "execution_count": 99,
   "id": "a1b967ff",
   "metadata": {},
   "outputs": [
    {
     "data": {
      "text/html": [
       "<div>\n",
       "<style scoped>\n",
       "    .dataframe tbody tr th:only-of-type {\n",
       "        vertical-align: middle;\n",
       "    }\n",
       "\n",
       "    .dataframe tbody tr th {\n",
       "        vertical-align: top;\n",
       "    }\n",
       "\n",
       "    .dataframe thead th {\n",
       "        text-align: right;\n",
       "    }\n",
       "</style>\n",
       "<table border=\"1\" class=\"dataframe\">\n",
       "  <thead>\n",
       "    <tr style=\"text-align: right;\">\n",
       "      <th></th>\n",
       "      <th>Votes</th>\n",
       "      <th>Rank</th>\n",
       "      <th>Title</th>\n",
       "      <th>Year</th>\n",
       "      <th>Decade</th>\n",
       "    </tr>\n",
       "  </thead>\n",
       "  <tbody>\n",
       "    <tr>\n",
       "      <th>1</th>\n",
       "      <td>132823</td>\n",
       "      <td>8.3</td>\n",
       "      <td>Singin' in the Rain (1952)</td>\n",
       "      <td>1952</td>\n",
       "      <td>1950</td>\n",
       "    </tr>\n",
       "    <tr>\n",
       "      <th>2</th>\n",
       "      <td>74178</td>\n",
       "      <td>8.3</td>\n",
       "      <td>All About Eve (1950)</td>\n",
       "      <td>1950</td>\n",
       "      <td>1950</td>\n",
       "    </tr>\n",
       "    <tr>\n",
       "      <th>3</th>\n",
       "      <td>635139</td>\n",
       "      <td>8.6</td>\n",
       "      <td>Léon (1994)</td>\n",
       "      <td>1994</td>\n",
       "      <td>1990</td>\n",
       "    </tr>\n",
       "    <tr>\n",
       "      <th>4</th>\n",
       "      <td>145514</td>\n",
       "      <td>8.2</td>\n",
       "      <td>The Elephant Man (1980)</td>\n",
       "      <td>1980</td>\n",
       "      <td>1980</td>\n",
       "    </tr>\n",
       "    <tr>\n",
       "      <th>5</th>\n",
       "      <td>425461</td>\n",
       "      <td>8.3</td>\n",
       "      <td>Full Metal Jacket (1987)</td>\n",
       "      <td>1987</td>\n",
       "      <td>1980</td>\n",
       "    </tr>\n",
       "  </tbody>\n",
       "</table>\n",
       "</div>"
      ],
      "text/plain": [
       "    Votes  Rank                       Title  Year  Decade\n",
       "1  132823   8.3  Singin' in the Rain (1952)  1952    1950\n",
       "2   74178   8.3        All About Eve (1950)  1950    1950\n",
       "3  635139   8.6                 Léon (1994)  1994    1990\n",
       "4  145514   8.2     The Elephant Man (1980)  1980    1980\n",
       "5  425461   8.3    Full Metal Jacket (1987)  1987    1980"
      ]
     },
     "execution_count": 99,
     "metadata": {},
     "output_type": "execute_result"
    }
   ],
   "source": [
    "#3. How to visualize the top and bottom x values in a data frame?\n",
    "df_1.head() # by default, displays first 5 rows "
   ]
  },
  {
   "cell_type": "code",
   "execution_count": 100,
   "id": "05262442",
   "metadata": {},
   "outputs": [
    {
     "data": {
      "text/html": [
       "<div>\n",
       "<style scoped>\n",
       "    .dataframe tbody tr th:only-of-type {\n",
       "        vertical-align: middle;\n",
       "    }\n",
       "\n",
       "    .dataframe tbody tr th {\n",
       "        vertical-align: top;\n",
       "    }\n",
       "\n",
       "    .dataframe thead th {\n",
       "        text-align: right;\n",
       "    }\n",
       "</style>\n",
       "<table border=\"1\" class=\"dataframe\">\n",
       "  <thead>\n",
       "    <tr style=\"text-align: right;\">\n",
       "      <th></th>\n",
       "      <th>Votes</th>\n",
       "      <th>Rank</th>\n",
       "      <th>Title</th>\n",
       "      <th>Year</th>\n",
       "      <th>Decade</th>\n",
       "    </tr>\n",
       "  </thead>\n",
       "  <tbody>\n",
       "    <tr>\n",
       "      <th>1</th>\n",
       "      <td>132823</td>\n",
       "      <td>8.3</td>\n",
       "      <td>Singin' in the Rain (1952)</td>\n",
       "      <td>1952</td>\n",
       "      <td>1950</td>\n",
       "    </tr>\n",
       "    <tr>\n",
       "      <th>2</th>\n",
       "      <td>74178</td>\n",
       "      <td>8.3</td>\n",
       "      <td>All About Eve (1950)</td>\n",
       "      <td>1950</td>\n",
       "      <td>1950</td>\n",
       "    </tr>\n",
       "    <tr>\n",
       "      <th>3</th>\n",
       "      <td>635139</td>\n",
       "      <td>8.6</td>\n",
       "      <td>Léon (1994)</td>\n",
       "      <td>1994</td>\n",
       "      <td>1990</td>\n",
       "    </tr>\n",
       "    <tr>\n",
       "      <th>4</th>\n",
       "      <td>145514</td>\n",
       "      <td>8.2</td>\n",
       "      <td>The Elephant Man (1980)</td>\n",
       "      <td>1980</td>\n",
       "      <td>1980</td>\n",
       "    </tr>\n",
       "    <tr>\n",
       "      <th>5</th>\n",
       "      <td>425461</td>\n",
       "      <td>8.3</td>\n",
       "      <td>Full Metal Jacket (1987)</td>\n",
       "      <td>1987</td>\n",
       "      <td>1980</td>\n",
       "    </tr>\n",
       "    <tr>\n",
       "      <th>6</th>\n",
       "      <td>441174</td>\n",
       "      <td>8.1</td>\n",
       "      <td>Gone Girl (2014)</td>\n",
       "      <td>2014</td>\n",
       "      <td>2010</td>\n",
       "    </tr>\n",
       "    <tr>\n",
       "      <th>7</th>\n",
       "      <td>850601</td>\n",
       "      <td>8.3</td>\n",
       "      <td>Batman Begins (2005)</td>\n",
       "      <td>2005</td>\n",
       "      <td>2000</td>\n",
       "    </tr>\n",
       "    <tr>\n",
       "      <th>8</th>\n",
       "      <td>37664</td>\n",
       "      <td>8.2</td>\n",
       "      <td>Judgment at Nuremberg (1961)</td>\n",
       "      <td>1961</td>\n",
       "      <td>1960</td>\n",
       "    </tr>\n",
       "    <tr>\n",
       "      <th>9</th>\n",
       "      <td>46987</td>\n",
       "      <td>8.0</td>\n",
       "      <td>Relatos salvajes (2014)</td>\n",
       "      <td>2014</td>\n",
       "      <td>2010</td>\n",
       "    </tr>\n",
       "    <tr>\n",
       "      <th>10</th>\n",
       "      <td>56842</td>\n",
       "      <td>8.1</td>\n",
       "      <td>It Happened One Night (1934)</td>\n",
       "      <td>1934</td>\n",
       "      <td>1930</td>\n",
       "    </tr>\n",
       "  </tbody>\n",
       "</table>\n",
       "</div>"
      ],
      "text/plain": [
       "     Votes  Rank                         Title  Year  Decade\n",
       "1   132823   8.3    Singin' in the Rain (1952)  1952    1950\n",
       "2    74178   8.3          All About Eve (1950)  1950    1950\n",
       "3   635139   8.6                   Léon (1994)  1994    1990\n",
       "4   145514   8.2       The Elephant Man (1980)  1980    1980\n",
       "5   425461   8.3      Full Metal Jacket (1987)  1987    1980\n",
       "6   441174   8.1              Gone Girl (2014)  2014    2010\n",
       "7   850601   8.3          Batman Begins (2005)  2005    2000\n",
       "8    37664   8.2  Judgment at Nuremberg (1961)  1961    1960\n",
       "9    46987   8.0       Relatos salvajes (2014)  2014    2010\n",
       "10   56842   8.1  It Happened One Night (1934)  1934    1930"
      ]
     },
     "execution_count": 100,
     "metadata": {},
     "output_type": "execute_result"
    }
   ],
   "source": [
    "df_1.head(10) #top 10 "
   ]
  },
  {
   "cell_type": "code",
   "execution_count": 101,
   "id": "4115a4f9",
   "metadata": {},
   "outputs": [
    {
     "data": {
      "text/html": [
       "<div>\n",
       "<style scoped>\n",
       "    .dataframe tbody tr th:only-of-type {\n",
       "        vertical-align: middle;\n",
       "    }\n",
       "\n",
       "    .dataframe tbody tr th {\n",
       "        vertical-align: top;\n",
       "    }\n",
       "\n",
       "    .dataframe thead th {\n",
       "        text-align: right;\n",
       "    }\n",
       "</style>\n",
       "<table border=\"1\" class=\"dataframe\">\n",
       "  <thead>\n",
       "    <tr style=\"text-align: right;\">\n",
       "      <th></th>\n",
       "      <th>Votes</th>\n",
       "      <th>Rank</th>\n",
       "      <th>Title</th>\n",
       "      <th>Year</th>\n",
       "      <th>Decade</th>\n",
       "    </tr>\n",
       "  </thead>\n",
       "  <tbody>\n",
       "    <tr>\n",
       "      <th>240</th>\n",
       "      <td>117590</td>\n",
       "      <td>8.4</td>\n",
       "      <td>The Great Dictator (1940)</td>\n",
       "      <td>1940</td>\n",
       "      <td>1940</td>\n",
       "    </tr>\n",
       "    <tr>\n",
       "      <th>241</th>\n",
       "      <td>85012</td>\n",
       "      <td>8.1</td>\n",
       "      <td>Strangers on a Train (1951)</td>\n",
       "      <td>1951</td>\n",
       "      <td>1950</td>\n",
       "    </tr>\n",
       "    <tr>\n",
       "      <th>242</th>\n",
       "      <td>476501</td>\n",
       "      <td>8.6</td>\n",
       "      <td>Cidade de Deus (2002)</td>\n",
       "      <td>2002</td>\n",
       "      <td>2000</td>\n",
       "    </tr>\n",
       "    <tr>\n",
       "      <th>243</th>\n",
       "      <td>268905</td>\n",
       "      <td>8.4</td>\n",
       "      <td>Citizen Kane (1941)</td>\n",
       "      <td>1941</td>\n",
       "      <td>1940</td>\n",
       "    </tr>\n",
       "    <tr>\n",
       "      <th>244</th>\n",
       "      <td>69988</td>\n",
       "      <td>8.1</td>\n",
       "      <td>8½ (1963)</td>\n",
       "      <td>1963</td>\n",
       "      <td>1960</td>\n",
       "    </tr>\n",
       "    <tr>\n",
       "      <th>245</th>\n",
       "      <td>1078416</td>\n",
       "      <td>8.7</td>\n",
       "      <td>Forrest Gump (1994)</td>\n",
       "      <td>1994</td>\n",
       "      <td>1990</td>\n",
       "    </tr>\n",
       "    <tr>\n",
       "      <th>246</th>\n",
       "      <td>31003</td>\n",
       "      <td>8.1</td>\n",
       "      <td>Le salaire de la peur (1953)</td>\n",
       "      <td>1953</td>\n",
       "      <td>1950</td>\n",
       "    </tr>\n",
       "    <tr>\n",
       "      <th>247</th>\n",
       "      <td>167076</td>\n",
       "      <td>8.2</td>\n",
       "      <td>3 Idiots (2009)</td>\n",
       "      <td>2009</td>\n",
       "      <td>2000</td>\n",
       "    </tr>\n",
       "    <tr>\n",
       "      <th>248</th>\n",
       "      <td>91689</td>\n",
       "      <td>8.1</td>\n",
       "      <td>Network (1976)</td>\n",
       "      <td>1976</td>\n",
       "      <td>1970</td>\n",
       "    </tr>\n",
       "    <tr>\n",
       "      <th>249</th>\n",
       "      <td>589477</td>\n",
       "      <td>8.3</td>\n",
       "      <td>Eternal Sunshine of the Spotless Mind (2004)</td>\n",
       "      <td>2004</td>\n",
       "      <td>2000</td>\n",
       "    </tr>\n",
       "  </tbody>\n",
       "</table>\n",
       "</div>"
      ],
      "text/plain": [
       "       Votes  Rank                                         Title  Year  Decade\n",
       "240   117590   8.4                     The Great Dictator (1940)  1940    1940\n",
       "241    85012   8.1                   Strangers on a Train (1951)  1951    1950\n",
       "242   476501   8.6                         Cidade de Deus (2002)  2002    2000\n",
       "243   268905   8.4                           Citizen Kane (1941)  1941    1940\n",
       "244    69988   8.1                                     8½ (1963)  1963    1960\n",
       "245  1078416   8.7                           Forrest Gump (1994)  1994    1990\n",
       "246    31003   8.1                  Le salaire de la peur (1953)  1953    1950\n",
       "247   167076   8.2                               3 Idiots (2009)  2009    2000\n",
       "248    91689   8.1                                Network (1976)  1976    1970\n",
       "249   589477   8.3  Eternal Sunshine of the Spotless Mind (2004)  2004    2000"
      ]
     },
     "execution_count": 101,
     "metadata": {},
     "output_type": "execute_result"
    }
   ],
   "source": [
    "df_1.tail(10) #bottom 10 "
   ]
  },
  {
   "cell_type": "code",
   "execution_count": 102,
   "id": "4cdfcfbb",
   "metadata": {},
   "outputs": [
    {
     "data": {
      "text/html": [
       "<div>\n",
       "<style scoped>\n",
       "    .dataframe tbody tr th:only-of-type {\n",
       "        vertical-align: middle;\n",
       "    }\n",
       "\n",
       "    .dataframe tbody tr th {\n",
       "        vertical-align: top;\n",
       "    }\n",
       "\n",
       "    .dataframe thead th {\n",
       "        text-align: right;\n",
       "    }\n",
       "</style>\n",
       "<table border=\"1\" class=\"dataframe\">\n",
       "  <thead>\n",
       "    <tr style=\"text-align: right;\">\n",
       "      <th></th>\n",
       "      <th>Rank</th>\n",
       "      <th>Title</th>\n",
       "    </tr>\n",
       "  </thead>\n",
       "  <tbody>\n",
       "    <tr>\n",
       "      <th>1</th>\n",
       "      <td>8.3</td>\n",
       "      <td>Singin' in the Rain (1952)</td>\n",
       "    </tr>\n",
       "    <tr>\n",
       "      <th>2</th>\n",
       "      <td>8.3</td>\n",
       "      <td>All About Eve (1950)</td>\n",
       "    </tr>\n",
       "    <tr>\n",
       "      <th>3</th>\n",
       "      <td>8.6</td>\n",
       "      <td>Léon (1994)</td>\n",
       "    </tr>\n",
       "    <tr>\n",
       "      <th>4</th>\n",
       "      <td>8.2</td>\n",
       "      <td>The Elephant Man (1980)</td>\n",
       "    </tr>\n",
       "    <tr>\n",
       "      <th>5</th>\n",
       "      <td>8.3</td>\n",
       "      <td>Full Metal Jacket (1987)</td>\n",
       "    </tr>\n",
       "    <tr>\n",
       "      <th>6</th>\n",
       "      <td>8.1</td>\n",
       "      <td>Gone Girl (2014)</td>\n",
       "    </tr>\n",
       "    <tr>\n",
       "      <th>7</th>\n",
       "      <td>8.3</td>\n",
       "      <td>Batman Begins (2005)</td>\n",
       "    </tr>\n",
       "    <tr>\n",
       "      <th>8</th>\n",
       "      <td>8.2</td>\n",
       "      <td>Judgment at Nuremberg (1961)</td>\n",
       "    </tr>\n",
       "    <tr>\n",
       "      <th>9</th>\n",
       "      <td>8.0</td>\n",
       "      <td>Relatos salvajes (2014)</td>\n",
       "    </tr>\n",
       "    <tr>\n",
       "      <th>10</th>\n",
       "      <td>8.1</td>\n",
       "      <td>It Happened One Night (1934)</td>\n",
       "    </tr>\n",
       "  </tbody>\n",
       "</table>\n",
       "</div>"
      ],
      "text/plain": [
       "    Rank                         Title\n",
       "1    8.3    Singin' in the Rain (1952)\n",
       "2    8.3          All About Eve (1950)\n",
       "3    8.6                   Léon (1994)\n",
       "4    8.2       The Elephant Man (1980)\n",
       "5    8.3      Full Metal Jacket (1987)\n",
       "6    8.1              Gone Girl (2014)\n",
       "7    8.3          Batman Begins (2005)\n",
       "8    8.2  Judgment at Nuremberg (1961)\n",
       "9    8.0       Relatos salvajes (2014)\n",
       "10   8.1  It Happened One Night (1934)"
      ]
     },
     "execution_count": 102,
     "metadata": {},
     "output_type": "execute_result"
    }
   ],
   "source": [
    "# col = list_of_columns_to_view \n",
    "# df[col].head(num_of_rows_to_view)\n",
    "cols_1 = ['Rank', 'Title']\n",
    "df_1[cols_1].head(10)"
   ]
  },
  {
   "cell_type": "code",
   "execution_count": 103,
   "id": "938f71b2",
   "metadata": {},
   "outputs": [
    {
     "data": {
      "text/html": [
       "<div>\n",
       "<style scoped>\n",
       "    .dataframe tbody tr th:only-of-type {\n",
       "        vertical-align: middle;\n",
       "    }\n",
       "\n",
       "    .dataframe tbody tr th {\n",
       "        vertical-align: top;\n",
       "    }\n",
       "\n",
       "    .dataframe thead th {\n",
       "        text-align: right;\n",
       "    }\n",
       "</style>\n",
       "<table border=\"1\" class=\"dataframe\">\n",
       "  <thead>\n",
       "    <tr style=\"text-align: right;\">\n",
       "      <th></th>\n",
       "      <th>Rank</th>\n",
       "      <th>Title</th>\n",
       "    </tr>\n",
       "  </thead>\n",
       "  <tbody>\n",
       "    <tr>\n",
       "      <th>240</th>\n",
       "      <td>8.4</td>\n",
       "      <td>The Great Dictator (1940)</td>\n",
       "    </tr>\n",
       "    <tr>\n",
       "      <th>241</th>\n",
       "      <td>8.1</td>\n",
       "      <td>Strangers on a Train (1951)</td>\n",
       "    </tr>\n",
       "    <tr>\n",
       "      <th>242</th>\n",
       "      <td>8.6</td>\n",
       "      <td>Cidade de Deus (2002)</td>\n",
       "    </tr>\n",
       "    <tr>\n",
       "      <th>243</th>\n",
       "      <td>8.4</td>\n",
       "      <td>Citizen Kane (1941)</td>\n",
       "    </tr>\n",
       "    <tr>\n",
       "      <th>244</th>\n",
       "      <td>8.1</td>\n",
       "      <td>8½ (1963)</td>\n",
       "    </tr>\n",
       "    <tr>\n",
       "      <th>245</th>\n",
       "      <td>8.7</td>\n",
       "      <td>Forrest Gump (1994)</td>\n",
       "    </tr>\n",
       "    <tr>\n",
       "      <th>246</th>\n",
       "      <td>8.1</td>\n",
       "      <td>Le salaire de la peur (1953)</td>\n",
       "    </tr>\n",
       "    <tr>\n",
       "      <th>247</th>\n",
       "      <td>8.2</td>\n",
       "      <td>3 Idiots (2009)</td>\n",
       "    </tr>\n",
       "    <tr>\n",
       "      <th>248</th>\n",
       "      <td>8.1</td>\n",
       "      <td>Network (1976)</td>\n",
       "    </tr>\n",
       "    <tr>\n",
       "      <th>249</th>\n",
       "      <td>8.3</td>\n",
       "      <td>Eternal Sunshine of the Spotless Mind (2004)</td>\n",
       "    </tr>\n",
       "  </tbody>\n",
       "</table>\n",
       "</div>"
      ],
      "text/plain": [
       "     Rank                                         Title\n",
       "240   8.4                     The Great Dictator (1940)\n",
       "241   8.1                   Strangers on a Train (1951)\n",
       "242   8.6                         Cidade de Deus (2002)\n",
       "243   8.4                           Citizen Kane (1941)\n",
       "244   8.1                                     8½ (1963)\n",
       "245   8.7                           Forrest Gump (1994)\n",
       "246   8.1                  Le salaire de la peur (1953)\n",
       "247   8.2                               3 Idiots (2009)\n",
       "248   8.1                                Network (1976)\n",
       "249   8.3  Eternal Sunshine of the Spotless Mind (2004)"
      ]
     },
     "execution_count": 103,
     "metadata": {},
     "output_type": "execute_result"
    }
   ],
   "source": [
    "df_1[cols_1].tail(10)"
   ]
  },
  {
   "cell_type": "code",
   "execution_count": 104,
   "id": "05f6a410",
   "metadata": {},
   "outputs": [
    {
     "data": {
      "text/html": [
       "<div>\n",
       "<style scoped>\n",
       "    .dataframe tbody tr th:only-of-type {\n",
       "        vertical-align: middle;\n",
       "    }\n",
       "\n",
       "    .dataframe tbody tr th {\n",
       "        vertical-align: top;\n",
       "    }\n",
       "\n",
       "    .dataframe thead th {\n",
       "        text-align: right;\n",
       "    }\n",
       "</style>\n",
       "<table border=\"1\" class=\"dataframe\">\n",
       "  <thead>\n",
       "    <tr style=\"text-align: right;\">\n",
       "      <th></th>\n",
       "      <th>Total Votes</th>\n",
       "      <th>Rank</th>\n",
       "      <th>Movie Title</th>\n",
       "      <th>Year</th>\n",
       "      <th>Decade</th>\n",
       "    </tr>\n",
       "  </thead>\n",
       "  <tbody>\n",
       "    <tr>\n",
       "      <th>1</th>\n",
       "      <td>132823</td>\n",
       "      <td>8.3</td>\n",
       "      <td>Singin' in the Rain (1952)</td>\n",
       "      <td>1952</td>\n",
       "      <td>1950</td>\n",
       "    </tr>\n",
       "    <tr>\n",
       "      <th>2</th>\n",
       "      <td>74178</td>\n",
       "      <td>8.3</td>\n",
       "      <td>All About Eve (1950)</td>\n",
       "      <td>1950</td>\n",
       "      <td>1950</td>\n",
       "    </tr>\n",
       "    <tr>\n",
       "      <th>3</th>\n",
       "      <td>635139</td>\n",
       "      <td>8.6</td>\n",
       "      <td>Léon (1994)</td>\n",
       "      <td>1994</td>\n",
       "      <td>1990</td>\n",
       "    </tr>\n",
       "    <tr>\n",
       "      <th>4</th>\n",
       "      <td>145514</td>\n",
       "      <td>8.2</td>\n",
       "      <td>The Elephant Man (1980)</td>\n",
       "      <td>1980</td>\n",
       "      <td>1980</td>\n",
       "    </tr>\n",
       "    <tr>\n",
       "      <th>5</th>\n",
       "      <td>425461</td>\n",
       "      <td>8.3</td>\n",
       "      <td>Full Metal Jacket (1987)</td>\n",
       "      <td>1987</td>\n",
       "      <td>1980</td>\n",
       "    </tr>\n",
       "  </tbody>\n",
       "</table>\n",
       "</div>"
      ],
      "text/plain": [
       "   Total Votes  Rank                 Movie Title  Year  Decade\n",
       "1       132823   8.3  Singin' in the Rain (1952)  1952    1950\n",
       "2        74178   8.3        All About Eve (1950)  1950    1950\n",
       "3       635139   8.6                 Léon (1994)  1994    1990\n",
       "4       145514   8.2     The Elephant Man (1980)  1980    1980\n",
       "5       425461   8.3    Full Metal Jacket (1987)  1987    1980"
      ]
     },
     "execution_count": 104,
     "metadata": {},
     "output_type": "execute_result"
    }
   ],
   "source": [
    "#4. How to rename one or more columns?\n",
    "# To save results, need to assign to new DataFrame \n",
    "new_df_1 = df_1.rename(columns={'Votes':'Total Votes','Title':'Movie Title'})\n",
    "new_df_1.head()"
   ]
  },
  {
   "cell_type": "code",
   "execution_count": 105,
   "id": "e2de95ce",
   "metadata": {},
   "outputs": [
    {
     "data": {
      "text/plain": [
       "['Votes', 'Rank', 'Title', 'Year', 'Decade']"
      ]
     },
     "execution_count": 105,
     "metadata": {},
     "output_type": "execute_result"
    }
   ],
   "source": [
    "# 5. How to get column names in a list?¶\n",
    "df_1.columns.tolist()"
   ]
  },
  {
   "cell_type": "code",
   "execution_count": 106,
   "id": "41b2ca4a",
   "metadata": {},
   "outputs": [
    {
     "data": {
      "text/plain": [
       "8.1    53\n",
       "8.0    50\n",
       "8.3    38\n",
       "8.2    34\n",
       "8.5    24\n",
       "8.4    21\n",
       "8.6     9\n",
       "8.7     9\n",
       "8.9     6\n",
       "9.2     2\n",
       "8.8     2\n",
       "9.0     1\n",
       "Name: Rank, dtype: int64"
      ]
     },
     "execution_count": 106,
     "metadata": {},
     "output_type": "execute_result"
    }
   ],
   "source": [
    "#6. How to get the frequency of values in a series?\n",
    "df_1['Rank'].value_counts() # returns key, frequency pair"
   ]
  },
  {
   "cell_type": "code",
   "execution_count": 107,
   "id": "a6a3e5b4",
   "metadata": {},
   "outputs": [
    {
     "data": {
      "text/plain": [
       "14"
      ]
     },
     "execution_count": 107,
     "metadata": {},
     "output_type": "execute_result"
    }
   ],
   "source": [
    "df_1['Decade'].value_counts()[1940] # returns frequency of a key value\n"
   ]
  },
  {
   "cell_type": "code",
   "execution_count": 108,
   "id": "ea017455",
   "metadata": {},
   "outputs": [
    {
     "data": {
      "text/html": [
       "<div>\n",
       "<style scoped>\n",
       "    .dataframe tbody tr th:only-of-type {\n",
       "        vertical-align: middle;\n",
       "    }\n",
       "\n",
       "    .dataframe tbody tr th {\n",
       "        vertical-align: top;\n",
       "    }\n",
       "\n",
       "    .dataframe thead th {\n",
       "        text-align: right;\n",
       "    }\n",
       "</style>\n",
       "<table border=\"1\" class=\"dataframe\">\n",
       "  <thead>\n",
       "    <tr style=\"text-align: right;\">\n",
       "      <th></th>\n",
       "      <th>Votes</th>\n",
       "      <th>Rank</th>\n",
       "      <th>Title</th>\n",
       "      <th>Year</th>\n",
       "      <th>Decade</th>\n",
       "    </tr>\n",
       "  </thead>\n",
       "  <tbody>\n",
       "    <tr>\n",
       "      <th>0</th>\n",
       "      <td>132823</td>\n",
       "      <td>8.3</td>\n",
       "      <td>Singin' in the Rain (1952)</td>\n",
       "      <td>1952</td>\n",
       "      <td>1950</td>\n",
       "    </tr>\n",
       "    <tr>\n",
       "      <th>1</th>\n",
       "      <td>74178</td>\n",
       "      <td>8.3</td>\n",
       "      <td>All About Eve (1950)</td>\n",
       "      <td>1950</td>\n",
       "      <td>1950</td>\n",
       "    </tr>\n",
       "    <tr>\n",
       "      <th>2</th>\n",
       "      <td>635139</td>\n",
       "      <td>8.6</td>\n",
       "      <td>Léon (1994)</td>\n",
       "      <td>1994</td>\n",
       "      <td>1990</td>\n",
       "    </tr>\n",
       "    <tr>\n",
       "      <th>3</th>\n",
       "      <td>145514</td>\n",
       "      <td>8.2</td>\n",
       "      <td>The Elephant Man (1980)</td>\n",
       "      <td>1980</td>\n",
       "      <td>1980</td>\n",
       "    </tr>\n",
       "    <tr>\n",
       "      <th>4</th>\n",
       "      <td>425461</td>\n",
       "      <td>8.3</td>\n",
       "      <td>Full Metal Jacket (1987)</td>\n",
       "      <td>1987</td>\n",
       "      <td>1980</td>\n",
       "    </tr>\n",
       "  </tbody>\n",
       "</table>\n",
       "</div>"
      ],
      "text/plain": [
       "    Votes  Rank                       Title  Year  Decade\n",
       "0  132823   8.3  Singin' in the Rain (1952)  1952    1950\n",
       "1   74178   8.3        All About Eve (1950)  1950    1950\n",
       "2  635139   8.6                 Léon (1994)  1994    1990\n",
       "3  145514   8.2     The Elephant Man (1980)  1980    1980\n",
       "4  425461   8.3    Full Metal Jacket (1987)  1987    1980"
      ]
     },
     "execution_count": 108,
     "metadata": {},
     "output_type": "execute_result"
    }
   ],
   "source": [
    "# 7. How to reset an index to an existing column or another list or array?\n",
    "new_df_1 = df_1.reset_index(drop=True,inplace=False) # revert back to original indexing\n",
    "new_df_1.head()"
   ]
  },
  {
   "cell_type": "code",
   "execution_count": 109,
   "id": "f8d66356",
   "metadata": {},
   "outputs": [
    {
     "data": {
      "text/html": [
       "<div>\n",
       "<style scoped>\n",
       "    .dataframe tbody tr th:only-of-type {\n",
       "        vertical-align: middle;\n",
       "    }\n",
       "\n",
       "    .dataframe tbody tr th {\n",
       "        vertical-align: top;\n",
       "    }\n",
       "\n",
       "    .dataframe thead th {\n",
       "        text-align: right;\n",
       "    }\n",
       "</style>\n",
       "<table border=\"1\" class=\"dataframe\">\n",
       "  <thead>\n",
       "    <tr style=\"text-align: right;\">\n",
       "      <th></th>\n",
       "      <th>Rank</th>\n",
       "      <th>Title</th>\n",
       "      <th>Year</th>\n",
       "    </tr>\n",
       "  </thead>\n",
       "  <tbody>\n",
       "    <tr>\n",
       "      <th>1</th>\n",
       "      <td>8.3</td>\n",
       "      <td>Singin' in the Rain (1952)</td>\n",
       "      <td>1952</td>\n",
       "    </tr>\n",
       "    <tr>\n",
       "      <th>2</th>\n",
       "      <td>8.3</td>\n",
       "      <td>All About Eve (1950)</td>\n",
       "      <td>1950</td>\n",
       "    </tr>\n",
       "    <tr>\n",
       "      <th>3</th>\n",
       "      <td>8.6</td>\n",
       "      <td>Léon (1994)</td>\n",
       "      <td>1994</td>\n",
       "    </tr>\n",
       "    <tr>\n",
       "      <th>4</th>\n",
       "      <td>8.2</td>\n",
       "      <td>The Elephant Man (1980)</td>\n",
       "      <td>1980</td>\n",
       "    </tr>\n",
       "    <tr>\n",
       "      <th>5</th>\n",
       "      <td>8.3</td>\n",
       "      <td>Full Metal Jacket (1987)</td>\n",
       "      <td>1987</td>\n",
       "    </tr>\n",
       "  </tbody>\n",
       "</table>\n",
       "</div>"
      ],
      "text/plain": [
       "   Rank                       Title  Year\n",
       "1   8.3  Singin' in the Rain (1952)  1952\n",
       "2   8.3        All About Eve (1950)  1950\n",
       "3   8.6                 Léon (1994)  1994\n",
       "4   8.2     The Elephant Man (1980)  1980\n",
       "5   8.3    Full Metal Jacket (1987)  1987"
      ]
     },
     "execution_count": 109,
     "metadata": {},
     "output_type": "execute_result"
    }
   ],
   "source": [
    "#8. How to remove a column?\n",
    "new_df_1 = df_1.drop(columns = ['Votes', 'Decade']) # not done in place\n",
    "new_df_1.head()"
   ]
  },
  {
   "cell_type": "code",
   "execution_count": 110,
   "id": "289c8aae",
   "metadata": {},
   "outputs": [
    {
     "data": {
      "text/html": [
       "<div>\n",
       "<style scoped>\n",
       "    .dataframe tbody tr th:only-of-type {\n",
       "        vertical-align: middle;\n",
       "    }\n",
       "\n",
       "    .dataframe tbody tr th {\n",
       "        vertical-align: top;\n",
       "    }\n",
       "\n",
       "    .dataframe thead th {\n",
       "        text-align: right;\n",
       "    }\n",
       "</style>\n",
       "<table border=\"1\" class=\"dataframe\">\n",
       "  <thead>\n",
       "    <tr style=\"text-align: right;\">\n",
       "      <th></th>\n",
       "      <th>Title</th>\n",
       "      <th>Year</th>\n",
       "    </tr>\n",
       "    <tr>\n",
       "      <th>Rank</th>\n",
       "      <th></th>\n",
       "      <th></th>\n",
       "    </tr>\n",
       "  </thead>\n",
       "  <tbody>\n",
       "    <tr>\n",
       "      <th>8.3</th>\n",
       "      <td>Singin' in the Rain (1952)</td>\n",
       "      <td>1952</td>\n",
       "    </tr>\n",
       "    <tr>\n",
       "      <th>8.3</th>\n",
       "      <td>All About Eve (1950)</td>\n",
       "      <td>1950</td>\n",
       "    </tr>\n",
       "    <tr>\n",
       "      <th>8.6</th>\n",
       "      <td>Léon (1994)</td>\n",
       "      <td>1994</td>\n",
       "    </tr>\n",
       "    <tr>\n",
       "      <th>8.2</th>\n",
       "      <td>The Elephant Man (1980)</td>\n",
       "      <td>1980</td>\n",
       "    </tr>\n",
       "    <tr>\n",
       "      <th>8.3</th>\n",
       "      <td>Full Metal Jacket (1987)</td>\n",
       "      <td>1987</td>\n",
       "    </tr>\n",
       "  </tbody>\n",
       "</table>\n",
       "</div>"
      ],
      "text/plain": [
       "                           Title  Year\n",
       "Rank                                  \n",
       "8.3   Singin' in the Rain (1952)  1952\n",
       "8.3         All About Eve (1950)  1950\n",
       "8.6                  Léon (1994)  1994\n",
       "8.2      The Elephant Man (1980)  1980\n",
       "8.3     Full Metal Jacket (1987)  1987"
      ]
     },
     "execution_count": 110,
     "metadata": {},
     "output_type": "execute_result"
    }
   ],
   "source": [
    "#9. How to change the index in a data frame?\n",
    "new_df_1.set_index('Rank',inplace=True) # sets Rank as new index \n",
    "new_df_1.head()"
   ]
  },
  {
   "cell_type": "code",
   "execution_count": 111,
   "id": "54075b54",
   "metadata": {},
   "outputs": [
    {
     "data": {
      "text/html": [
       "<div>\n",
       "<style scoped>\n",
       "    .dataframe tbody tr th:only-of-type {\n",
       "        vertical-align: middle;\n",
       "    }\n",
       "\n",
       "    .dataframe tbody tr th {\n",
       "        vertical-align: top;\n",
       "    }\n",
       "\n",
       "    .dataframe thead th {\n",
       "        text-align: right;\n",
       "    }\n",
       "</style>\n",
       "<table border=\"1\" class=\"dataframe\">\n",
       "  <thead>\n",
       "    <tr style=\"text-align: right;\">\n",
       "      <th></th>\n",
       "      <th>Votes</th>\n",
       "      <th>Rank</th>\n",
       "      <th>Title</th>\n",
       "      <th>Year</th>\n",
       "      <th>Decade</th>\n",
       "    </tr>\n",
       "  </thead>\n",
       "  <tbody>\n",
       "    <tr>\n",
       "      <th>245</th>\n",
       "      <td>1078416.0</td>\n",
       "      <td>8.7</td>\n",
       "      <td>Forrest Gump (1994)</td>\n",
       "      <td>1994.0</td>\n",
       "      <td>1990.0</td>\n",
       "    </tr>\n",
       "    <tr>\n",
       "      <th>246</th>\n",
       "      <td>31003.0</td>\n",
       "      <td>8.1</td>\n",
       "      <td>Le salaire de la peur (1953)</td>\n",
       "      <td>1953.0</td>\n",
       "      <td>1950.0</td>\n",
       "    </tr>\n",
       "    <tr>\n",
       "      <th>247</th>\n",
       "      <td>167076.0</td>\n",
       "      <td>8.2</td>\n",
       "      <td>3 Idiots (2009)</td>\n",
       "      <td>2009.0</td>\n",
       "      <td>2000.0</td>\n",
       "    </tr>\n",
       "    <tr>\n",
       "      <th>248</th>\n",
       "      <td>91689.0</td>\n",
       "      <td>8.1</td>\n",
       "      <td>Network (1976)</td>\n",
       "      <td>1976.0</td>\n",
       "      <td>1970.0</td>\n",
       "    </tr>\n",
       "    <tr>\n",
       "      <th>249</th>\n",
       "      <td>589477.0</td>\n",
       "      <td>8.3</td>\n",
       "      <td>Eternal Sunshine of the Spotless Mind (2004)</td>\n",
       "      <td>2004.0</td>\n",
       "      <td>2000.0</td>\n",
       "    </tr>\n",
       "    <tr>\n",
       "      <th>250</th>\n",
       "      <td>NaN</td>\n",
       "      <td>NaN</td>\n",
       "      <td>NaN</td>\n",
       "      <td>NaN</td>\n",
       "      <td>NaN</td>\n",
       "    </tr>\n",
       "    <tr>\n",
       "      <th>251</th>\n",
       "      <td>NaN</td>\n",
       "      <td>NaN</td>\n",
       "      <td>NaN</td>\n",
       "      <td>NaN</td>\n",
       "      <td>NaN</td>\n",
       "    </tr>\n",
       "    <tr>\n",
       "      <th>252</th>\n",
       "      <td>NaN</td>\n",
       "      <td>NaN</td>\n",
       "      <td>NaN</td>\n",
       "      <td>NaN</td>\n",
       "      <td>NaN</td>\n",
       "    </tr>\n",
       "    <tr>\n",
       "      <th>253</th>\n",
       "      <td>NaN</td>\n",
       "      <td>NaN</td>\n",
       "      <td>NaN</td>\n",
       "      <td>NaN</td>\n",
       "      <td>NaN</td>\n",
       "    </tr>\n",
       "    <tr>\n",
       "      <th>254</th>\n",
       "      <td>NaN</td>\n",
       "      <td>NaN</td>\n",
       "      <td>NaN</td>\n",
       "      <td>NaN</td>\n",
       "      <td>NaN</td>\n",
       "    </tr>\n",
       "  </tbody>\n",
       "</table>\n",
       "</div>"
      ],
      "text/plain": [
       "         Votes  Rank                                         Title    Year  \\\n",
       "245  1078416.0   8.7                           Forrest Gump (1994)  1994.0   \n",
       "246    31003.0   8.1                  Le salaire de la peur (1953)  1953.0   \n",
       "247   167076.0   8.2                               3 Idiots (2009)  2009.0   \n",
       "248    91689.0   8.1                                Network (1976)  1976.0   \n",
       "249   589477.0   8.3  Eternal Sunshine of the Spotless Mind (2004)  2004.0   \n",
       "250        NaN   NaN                                           NaN     NaN   \n",
       "251        NaN   NaN                                           NaN     NaN   \n",
       "252        NaN   NaN                                           NaN     NaN   \n",
       "253        NaN   NaN                                           NaN     NaN   \n",
       "254        NaN   NaN                                           NaN     NaN   \n",
       "\n",
       "     Decade  \n",
       "245  1990.0  \n",
       "246  1950.0  \n",
       "247  2000.0  \n",
       "248  1970.0  \n",
       "249  2000.0  \n",
       "250     NaN  \n",
       "251     NaN  \n",
       "252     NaN  \n",
       "253     NaN  \n",
       "254     NaN  "
      ]
     },
     "execution_count": 111,
     "metadata": {},
     "output_type": "execute_result"
    }
   ],
   "source": [
    "#10. How to remove rows or columns if they have NaN values?\n",
    "new_df_1 = df_1.reindex(index=np.arange(1, 255, 1)) # reindex with more rows \n",
    "new_df_1.tail(10) # new rows have missing values "
   ]
  },
  {
   "cell_type": "code",
   "execution_count": 112,
   "id": "1469d965",
   "metadata": {},
   "outputs": [
    {
     "data": {
      "text/html": [
       "<div>\n",
       "<style scoped>\n",
       "    .dataframe tbody tr th:only-of-type {\n",
       "        vertical-align: middle;\n",
       "    }\n",
       "\n",
       "    .dataframe tbody tr th {\n",
       "        vertical-align: top;\n",
       "    }\n",
       "\n",
       "    .dataframe thead th {\n",
       "        text-align: right;\n",
       "    }\n",
       "</style>\n",
       "<table border=\"1\" class=\"dataframe\">\n",
       "  <thead>\n",
       "    <tr style=\"text-align: right;\">\n",
       "      <th></th>\n",
       "      <th>Votes</th>\n",
       "      <th>Rank</th>\n",
       "      <th>Title</th>\n",
       "      <th>Year</th>\n",
       "      <th>Decade</th>\n",
       "    </tr>\n",
       "  </thead>\n",
       "  <tbody>\n",
       "    <tr>\n",
       "      <th>240</th>\n",
       "      <td>117590.0</td>\n",
       "      <td>8.4</td>\n",
       "      <td>The Great Dictator (1940)</td>\n",
       "      <td>1940.0</td>\n",
       "      <td>1940.0</td>\n",
       "    </tr>\n",
       "    <tr>\n",
       "      <th>241</th>\n",
       "      <td>85012.0</td>\n",
       "      <td>8.1</td>\n",
       "      <td>Strangers on a Train (1951)</td>\n",
       "      <td>1951.0</td>\n",
       "      <td>1950.0</td>\n",
       "    </tr>\n",
       "    <tr>\n",
       "      <th>242</th>\n",
       "      <td>476501.0</td>\n",
       "      <td>8.6</td>\n",
       "      <td>Cidade de Deus (2002)</td>\n",
       "      <td>2002.0</td>\n",
       "      <td>2000.0</td>\n",
       "    </tr>\n",
       "    <tr>\n",
       "      <th>243</th>\n",
       "      <td>268905.0</td>\n",
       "      <td>8.4</td>\n",
       "      <td>Citizen Kane (1941)</td>\n",
       "      <td>1941.0</td>\n",
       "      <td>1940.0</td>\n",
       "    </tr>\n",
       "    <tr>\n",
       "      <th>244</th>\n",
       "      <td>69988.0</td>\n",
       "      <td>8.1</td>\n",
       "      <td>8½ (1963)</td>\n",
       "      <td>1963.0</td>\n",
       "      <td>1960.0</td>\n",
       "    </tr>\n",
       "    <tr>\n",
       "      <th>245</th>\n",
       "      <td>1078416.0</td>\n",
       "      <td>8.7</td>\n",
       "      <td>Forrest Gump (1994)</td>\n",
       "      <td>1994.0</td>\n",
       "      <td>1990.0</td>\n",
       "    </tr>\n",
       "    <tr>\n",
       "      <th>246</th>\n",
       "      <td>31003.0</td>\n",
       "      <td>8.1</td>\n",
       "      <td>Le salaire de la peur (1953)</td>\n",
       "      <td>1953.0</td>\n",
       "      <td>1950.0</td>\n",
       "    </tr>\n",
       "    <tr>\n",
       "      <th>247</th>\n",
       "      <td>167076.0</td>\n",
       "      <td>8.2</td>\n",
       "      <td>3 Idiots (2009)</td>\n",
       "      <td>2009.0</td>\n",
       "      <td>2000.0</td>\n",
       "    </tr>\n",
       "    <tr>\n",
       "      <th>248</th>\n",
       "      <td>91689.0</td>\n",
       "      <td>8.1</td>\n",
       "      <td>Network (1976)</td>\n",
       "      <td>1976.0</td>\n",
       "      <td>1970.0</td>\n",
       "    </tr>\n",
       "    <tr>\n",
       "      <th>249</th>\n",
       "      <td>589477.0</td>\n",
       "      <td>8.3</td>\n",
       "      <td>Eternal Sunshine of the Spotless Mind (2004)</td>\n",
       "      <td>2004.0</td>\n",
       "      <td>2000.0</td>\n",
       "    </tr>\n",
       "  </tbody>\n",
       "</table>\n",
       "</div>"
      ],
      "text/plain": [
       "         Votes  Rank                                         Title    Year  \\\n",
       "240   117590.0   8.4                     The Great Dictator (1940)  1940.0   \n",
       "241    85012.0   8.1                   Strangers on a Train (1951)  1951.0   \n",
       "242   476501.0   8.6                         Cidade de Deus (2002)  2002.0   \n",
       "243   268905.0   8.4                           Citizen Kane (1941)  1941.0   \n",
       "244    69988.0   8.1                                     8½ (1963)  1963.0   \n",
       "245  1078416.0   8.7                           Forrest Gump (1994)  1994.0   \n",
       "246    31003.0   8.1                  Le salaire de la peur (1953)  1953.0   \n",
       "247   167076.0   8.2                               3 Idiots (2009)  2009.0   \n",
       "248    91689.0   8.1                                Network (1976)  1976.0   \n",
       "249   589477.0   8.3  Eternal Sunshine of the Spotless Mind (2004)  2004.0   \n",
       "\n",
       "     Decade  \n",
       "240  1940.0  \n",
       "241  1950.0  \n",
       "242  2000.0  \n",
       "243  1940.0  \n",
       "244  1960.0  \n",
       "245  1990.0  \n",
       "246  1950.0  \n",
       "247  2000.0  \n",
       "248  1970.0  \n",
       "249  2000.0  "
      ]
     },
     "execution_count": 112,
     "metadata": {},
     "output_type": "execute_result"
    }
   ],
   "source": [
    "new_df_1.dropna(axis=0,inplace=True)\n",
    "new_df_1.tail(10)"
   ]
  },
  {
   "cell_type": "code",
   "execution_count": 113,
   "id": "3e22791a",
   "metadata": {},
   "outputs": [
    {
     "data": {
      "text/html": [
       "<div>\n",
       "<style scoped>\n",
       "    .dataframe tbody tr th:only-of-type {\n",
       "        vertical-align: middle;\n",
       "    }\n",
       "\n",
       "    .dataframe tbody tr th {\n",
       "        vertical-align: top;\n",
       "    }\n",
       "\n",
       "    .dataframe thead th {\n",
       "        text-align: right;\n",
       "    }\n",
       "</style>\n",
       "<table border=\"1\" class=\"dataframe\">\n",
       "  <thead>\n",
       "    <tr style=\"text-align: right;\">\n",
       "      <th></th>\n",
       "      <th>Votes</th>\n",
       "      <th>Rank</th>\n",
       "      <th>Title</th>\n",
       "      <th>Year</th>\n",
       "      <th>Decade</th>\n",
       "    </tr>\n",
       "  </thead>\n",
       "  <tbody>\n",
       "    <tr>\n",
       "      <th>1</th>\n",
       "      <td>132823</td>\n",
       "      <td>8.3</td>\n",
       "      <td>Singin' in the Rain (1952)</td>\n",
       "      <td>1952</td>\n",
       "      <td>1950</td>\n",
       "    </tr>\n",
       "    <tr>\n",
       "      <th>2</th>\n",
       "      <td>74178</td>\n",
       "      <td>8.3</td>\n",
       "      <td>All About Eve (1950)</td>\n",
       "      <td>1950</td>\n",
       "      <td>1950</td>\n",
       "    </tr>\n",
       "    <tr>\n",
       "      <th>12</th>\n",
       "      <td>156432</td>\n",
       "      <td>8.3</td>\n",
       "      <td>Some Like It Hot (1959)</td>\n",
       "      <td>1959</td>\n",
       "      <td>1950</td>\n",
       "    </tr>\n",
       "    <tr>\n",
       "      <th>35</th>\n",
       "      <td>56671</td>\n",
       "      <td>8.0</td>\n",
       "      <td>The Killing (1956)</td>\n",
       "      <td>1956</td>\n",
       "      <td>1950</td>\n",
       "    </tr>\n",
       "    <tr>\n",
       "      <th>51</th>\n",
       "      <td>87437</td>\n",
       "      <td>8.0</td>\n",
       "      <td>Roman Holiday (1953)</td>\n",
       "      <td>1953</td>\n",
       "      <td>1950</td>\n",
       "    </tr>\n",
       "  </tbody>\n",
       "</table>\n",
       "</div>"
      ],
      "text/plain": [
       "     Votes  Rank                       Title  Year  Decade\n",
       "1   132823   8.3  Singin' in the Rain (1952)  1952    1950\n",
       "2    74178   8.3        All About Eve (1950)  1950    1950\n",
       "12  156432   8.3     Some Like It Hot (1959)  1959    1950\n",
       "35   56671   8.0          The Killing (1956)  1956    1950\n",
       "51   87437   8.0        Roman Holiday (1953)  1953    1950"
      ]
     },
     "execution_count": 113,
     "metadata": {},
     "output_type": "execute_result"
    }
   ],
   "source": [
    "#11. How to slice a data frame given a condition?\n",
    "mask_1 = (df_1['Decade'] == 1950) \n",
    "# or \n",
    "mask_2 = df_1['Decade'].isin([1950, 1960])\n",
    "\n",
    "movies_1950s = df_1[mask_1]\n",
    "movies_1950s.head()\n"
   ]
  },
  {
   "cell_type": "code",
   "execution_count": 114,
   "id": "25516467",
   "metadata": {},
   "outputs": [
    {
     "data": {
      "text/html": [
       "<div>\n",
       "<style scoped>\n",
       "    .dataframe tbody tr th:only-of-type {\n",
       "        vertical-align: middle;\n",
       "    }\n",
       "\n",
       "    .dataframe tbody tr th {\n",
       "        vertical-align: top;\n",
       "    }\n",
       "\n",
       "    .dataframe thead th {\n",
       "        text-align: right;\n",
       "    }\n",
       "</style>\n",
       "<table border=\"1\" class=\"dataframe\">\n",
       "  <thead>\n",
       "    <tr style=\"text-align: right;\">\n",
       "      <th></th>\n",
       "      <th>Votes</th>\n",
       "      <th>Rank</th>\n",
       "      <th>Title</th>\n",
       "      <th>Year</th>\n",
       "      <th>Decade</th>\n",
       "    </tr>\n",
       "  </thead>\n",
       "  <tbody>\n",
       "    <tr>\n",
       "      <th>1</th>\n",
       "      <td>132823</td>\n",
       "      <td>8.3</td>\n",
       "      <td>Singin' in the Rain (1952)</td>\n",
       "      <td>1952</td>\n",
       "      <td>1950</td>\n",
       "    </tr>\n",
       "    <tr>\n",
       "      <th>2</th>\n",
       "      <td>74178</td>\n",
       "      <td>8.3</td>\n",
       "      <td>All About Eve (1950)</td>\n",
       "      <td>1950</td>\n",
       "      <td>1950</td>\n",
       "    </tr>\n",
       "    <tr>\n",
       "      <th>8</th>\n",
       "      <td>37664</td>\n",
       "      <td>8.2</td>\n",
       "      <td>Judgment at Nuremberg (1961)</td>\n",
       "      <td>1961</td>\n",
       "      <td>1960</td>\n",
       "    </tr>\n",
       "    <tr>\n",
       "      <th>12</th>\n",
       "      <td>156432</td>\n",
       "      <td>8.3</td>\n",
       "      <td>Some Like It Hot (1959)</td>\n",
       "      <td>1959</td>\n",
       "      <td>1950</td>\n",
       "    </tr>\n",
       "    <tr>\n",
       "      <th>18</th>\n",
       "      <td>134552</td>\n",
       "      <td>8.1</td>\n",
       "      <td>Butch Cassidy and the Sundance Kid (1969)</td>\n",
       "      <td>1969</td>\n",
       "      <td>1960</td>\n",
       "    </tr>\n",
       "  </tbody>\n",
       "</table>\n",
       "</div>"
      ],
      "text/plain": [
       "     Votes  Rank                                      Title  Year  Decade\n",
       "1   132823   8.3                 Singin' in the Rain (1952)  1952    1950\n",
       "2    74178   8.3                       All About Eve (1950)  1950    1950\n",
       "8    37664   8.2               Judgment at Nuremberg (1961)  1961    1960\n",
       "12  156432   8.3                    Some Like It Hot (1959)  1959    1950\n",
       "18  134552   8.1  Butch Cassidy and the Sundance Kid (1969)  1969    1960"
      ]
     },
     "execution_count": 114,
     "metadata": {},
     "output_type": "execute_result"
    }
   ],
   "source": [
    "movies_50_60s = df_1[mask_2]\n",
    "movies_50_60s.head()"
   ]
  },
  {
   "cell_type": "code",
   "execution_count": 115,
   "id": "abddda31",
   "metadata": {},
   "outputs": [
    {
     "data": {
      "text/html": [
       "<div>\n",
       "<style scoped>\n",
       "    .dataframe tbody tr th:only-of-type {\n",
       "        vertical-align: middle;\n",
       "    }\n",
       "\n",
       "    .dataframe tbody tr th {\n",
       "        vertical-align: top;\n",
       "    }\n",
       "\n",
       "    .dataframe thead th {\n",
       "        text-align: right;\n",
       "    }\n",
       "</style>\n",
       "<table border=\"1\" class=\"dataframe\">\n",
       "  <thead>\n",
       "    <tr style=\"text-align: right;\">\n",
       "      <th></th>\n",
       "      <th>Votes</th>\n",
       "      <th>Rank</th>\n",
       "      <th>Title</th>\n",
       "      <th>Year</th>\n",
       "      <th>Decade</th>\n",
       "    </tr>\n",
       "  </thead>\n",
       "  <tbody>\n",
       "    <tr>\n",
       "      <th>86</th>\n",
       "      <td>123879</td>\n",
       "      <td>8.5</td>\n",
       "      <td>Sunset Blvd. (1950)</td>\n",
       "      <td>1950</td>\n",
       "      <td>1950</td>\n",
       "    </tr>\n",
       "    <tr>\n",
       "      <th>98</th>\n",
       "      <td>206216</td>\n",
       "      <td>8.7</td>\n",
       "      <td>Shichinin no samurai (1954)</td>\n",
       "      <td>1954</td>\n",
       "      <td>1950</td>\n",
       "    </tr>\n",
       "    <tr>\n",
       "      <th>105</th>\n",
       "      <td>384187</td>\n",
       "      <td>8.9</td>\n",
       "      <td>12 Angry Men (1957)</td>\n",
       "      <td>1957</td>\n",
       "      <td>1950</td>\n",
       "    </tr>\n",
       "    <tr>\n",
       "      <th>217</th>\n",
       "      <td>280432</td>\n",
       "      <td>8.5</td>\n",
       "      <td>Rear Window (1954)</td>\n",
       "      <td>1954</td>\n",
       "      <td>1950</td>\n",
       "    </tr>\n",
       "  </tbody>\n",
       "</table>\n",
       "</div>"
      ],
      "text/plain": [
       "      Votes  Rank                        Title  Year  Decade\n",
       "86   123879   8.5          Sunset Blvd. (1950)  1950    1950\n",
       "98   206216   8.7  Shichinin no samurai (1954)  1954    1950\n",
       "105  384187   8.9          12 Angry Men (1957)  1957    1950\n",
       "217  280432   8.5           Rear Window (1954)  1954    1950"
      ]
     },
     "execution_count": 115,
     "metadata": {},
     "output_type": "execute_result"
    }
   ],
   "source": [
    "mask_3 = (mask_1 & (df_1['Rank'] >= 8.5))\n",
    "best_movies_1950s = df_1[mask_3]\n",
    "best_movies_1950s"
   ]
  },
  {
   "cell_type": "code",
   "execution_count": 116,
   "id": "75e50f64",
   "metadata": {},
   "outputs": [
    {
     "data": {
      "text/html": [
       "<div>\n",
       "<style scoped>\n",
       "    .dataframe tbody tr th:only-of-type {\n",
       "        vertical-align: middle;\n",
       "    }\n",
       "\n",
       "    .dataframe tbody tr th {\n",
       "        vertical-align: top;\n",
       "    }\n",
       "\n",
       "    .dataframe thead th {\n",
       "        text-align: right;\n",
       "    }\n",
       "</style>\n",
       "<table border=\"1\" class=\"dataframe\">\n",
       "  <thead>\n",
       "    <tr style=\"text-align: right;\">\n",
       "      <th></th>\n",
       "      <th>Votes</th>\n",
       "      <th>Rank</th>\n",
       "      <th>Title</th>\n",
       "      <th>Year</th>\n",
       "      <th>Decade</th>\n",
       "    </tr>\n",
       "  </thead>\n",
       "  <tbody>\n",
       "    <tr>\n",
       "      <th>1</th>\n",
       "      <td>132823</td>\n",
       "      <td>8.3</td>\n",
       "      <td>Singin' in the Rain (1952)</td>\n",
       "      <td>1952</td>\n",
       "      <td>1950</td>\n",
       "    </tr>\n",
       "    <tr>\n",
       "      <th>2</th>\n",
       "      <td>74178</td>\n",
       "      <td>8.3</td>\n",
       "      <td>All About Eve (1950)</td>\n",
       "      <td>1950</td>\n",
       "      <td>1950</td>\n",
       "    </tr>\n",
       "    <tr>\n",
       "      <th>3</th>\n",
       "      <td>635139</td>\n",
       "      <td>8.6</td>\n",
       "      <td>Léon (1994)</td>\n",
       "      <td>1994</td>\n",
       "      <td>1990</td>\n",
       "    </tr>\n",
       "    <tr>\n",
       "      <th>4</th>\n",
       "      <td>145514</td>\n",
       "      <td>8.2</td>\n",
       "      <td>The Elephant Man (1980)</td>\n",
       "      <td>1980</td>\n",
       "      <td>1980</td>\n",
       "    </tr>\n",
       "    <tr>\n",
       "      <th>5</th>\n",
       "      <td>425461</td>\n",
       "      <td>8.3</td>\n",
       "      <td>Full Metal Jacket (1987)</td>\n",
       "      <td>1987</td>\n",
       "      <td>1980</td>\n",
       "    </tr>\n",
       "  </tbody>\n",
       "</table>\n",
       "</div>"
      ],
      "text/plain": [
       "    Votes  Rank                       Title  Year  Decade\n",
       "1  132823   8.3  Singin' in the Rain (1952)  1952    1950\n",
       "2   74178   8.3        All About Eve (1950)  1950    1950\n",
       "3  635139   8.6                 Léon (1994)  1994    1990\n",
       "4  145514   8.2     The Elephant Man (1980)  1980    1980\n",
       "5  425461   8.3    Full Metal Jacket (1987)  1987    1980"
      ]
     },
     "execution_count": 116,
     "metadata": {},
     "output_type": "execute_result"
    }
   ],
   "source": [
    "# 12.How to slice a data frame given names of columns or index values of rows?\n",
    "df_1.head()\n"
   ]
  },
  {
   "cell_type": "code",
   "execution_count": 117,
   "id": "b0dd539e",
   "metadata": {},
   "outputs": [
    {
     "data": {
      "text/plain": [
       "'All About Eve (1950)'"
      ]
     },
     "execution_count": 117,
     "metadata": {},
     "output_type": "execute_result"
    }
   ],
   "source": [
    "# row 1, column 2 \n",
    "df_1.iat[1, 2]"
   ]
  },
  {
   "cell_type": "code",
   "execution_count": 118,
   "id": "a4f320d1",
   "metadata": {},
   "outputs": [
    {
     "data": {
      "text/plain": [
       "'The Elephant Man (1980)'"
      ]
     },
     "execution_count": 118,
     "metadata": {},
     "output_type": "execute_result"
    }
   ],
   "source": [
    "# the Title of movie at index 4 \n",
    "df_1.at[4, 'Title']"
   ]
  },
  {
   "cell_type": "code",
   "execution_count": 119,
   "id": "c3d5af7b",
   "metadata": {},
   "outputs": [
    {
     "data": {
      "text/html": [
       "<div>\n",
       "<style scoped>\n",
       "    .dataframe tbody tr th:only-of-type {\n",
       "        vertical-align: middle;\n",
       "    }\n",
       "\n",
       "    .dataframe tbody tr th {\n",
       "        vertical-align: top;\n",
       "    }\n",
       "\n",
       "    .dataframe thead th {\n",
       "        text-align: right;\n",
       "    }\n",
       "</style>\n",
       "<table border=\"1\" class=\"dataframe\">\n",
       "  <thead>\n",
       "    <tr style=\"text-align: right;\">\n",
       "      <th></th>\n",
       "      <th>Rank</th>\n",
       "      <th>Title</th>\n",
       "    </tr>\n",
       "  </thead>\n",
       "  <tbody>\n",
       "    <tr>\n",
       "      <th>1</th>\n",
       "      <td>8.3</td>\n",
       "      <td>Singin' in the Rain (1952)</td>\n",
       "    </tr>\n",
       "    <tr>\n",
       "      <th>3</th>\n",
       "      <td>8.6</td>\n",
       "      <td>Léon (1994)</td>\n",
       "    </tr>\n",
       "    <tr>\n",
       "      <th>5</th>\n",
       "      <td>8.3</td>\n",
       "      <td>Full Metal Jacket (1987)</td>\n",
       "    </tr>\n",
       "  </tbody>\n",
       "</table>\n",
       "</div>"
      ],
      "text/plain": [
       "   Rank                       Title\n",
       "1   8.3  Singin' in the Rain (1952)\n",
       "3   8.6                 Léon (1994)\n",
       "5   8.3    Full Metal Jacket (1987)"
      ]
     },
     "execution_count": 119,
     "metadata": {},
     "output_type": "execute_result"
    }
   ],
   "source": [
    "# Titles of movies at indices 1, 3, 5\n",
    "df_1.loc[[1,3,5], ['Rank', 'Title']] "
   ]
  },
  {
   "cell_type": "code",
   "execution_count": 120,
   "id": "3a84a748",
   "metadata": {},
   "outputs": [
    {
     "data": {
      "text/html": [
       "<div>\n",
       "<style scoped>\n",
       "    .dataframe tbody tr th:only-of-type {\n",
       "        vertical-align: middle;\n",
       "    }\n",
       "\n",
       "    .dataframe tbody tr th {\n",
       "        vertical-align: top;\n",
       "    }\n",
       "\n",
       "    .dataframe thead th {\n",
       "        text-align: right;\n",
       "    }\n",
       "</style>\n",
       "<table border=\"1\" class=\"dataframe\">\n",
       "  <thead>\n",
       "    <tr style=\"text-align: right;\">\n",
       "      <th></th>\n",
       "      <th>Title</th>\n",
       "      <th>Year</th>\n",
       "    </tr>\n",
       "  </thead>\n",
       "  <tbody>\n",
       "    <tr>\n",
       "      <th>2</th>\n",
       "      <td>All About Eve (1950)</td>\n",
       "      <td>1950</td>\n",
       "    </tr>\n",
       "    <tr>\n",
       "      <th>4</th>\n",
       "      <td>The Elephant Man (1980)</td>\n",
       "      <td>1980</td>\n",
       "    </tr>\n",
       "  </tbody>\n",
       "</table>\n",
       "</div>"
      ],
      "text/plain": [
       "                     Title  Year\n",
       "2     All About Eve (1950)  1950\n",
       "4  The Elephant Man (1980)  1980"
      ]
     },
     "execution_count": 120,
     "metadata": {},
     "output_type": "execute_result"
    }
   ],
   "source": [
    "# indices 1, 3 / columns 2, 3\n",
    "df_1.iloc[[1,3],[2,3]]"
   ]
  },
  {
   "cell_type": "code",
   "execution_count": 121,
   "id": "1536a2e3",
   "metadata": {},
   "outputs": [
    {
     "name": "stdout",
     "output_type": "stream",
     "text": [
      "86,178,431\n"
     ]
    }
   ],
   "source": [
    "#13. How to iterate over rows?\n",
    "total_votes = 0\n",
    "for i,row in df_1.iterrows():\n",
    "    total_votes += row['Votes']\n",
    "\n",
    "formatted_total = \"{:,}\".format(total_votes)\n",
    "print(formatted_total)    "
   ]
  },
  {
   "cell_type": "code",
   "execution_count": 122,
   "id": "beb5d073",
   "metadata": {},
   "outputs": [
    {
     "name": "stdout",
     "output_type": "stream",
     "text": [
      "Average rank is  8.27\n"
     ]
    }
   ],
   "source": [
    "rank_totals = 0 \n",
    "for row in df_1.itertuples():\n",
    "    rank_totals += row.Rank\n",
    "    \n",
    "avg_rank = rank_totals / df_1.shape[0]  # total / number of rows\n",
    "print(\"Average rank is \", round(avg_rank, 2))"
   ]
  },
  {
   "cell_type": "code",
   "execution_count": 123,
   "id": "77c43f02",
   "metadata": {},
   "outputs": [
    {
     "data": {
      "text/html": [
       "<div>\n",
       "<style scoped>\n",
       "    .dataframe tbody tr th:only-of-type {\n",
       "        vertical-align: middle;\n",
       "    }\n",
       "\n",
       "    .dataframe tbody tr th {\n",
       "        vertical-align: top;\n",
       "    }\n",
       "\n",
       "    .dataframe thead th {\n",
       "        text-align: right;\n",
       "    }\n",
       "</style>\n",
       "<table border=\"1\" class=\"dataframe\">\n",
       "  <thead>\n",
       "    <tr style=\"text-align: right;\">\n",
       "      <th></th>\n",
       "      <th>Votes</th>\n",
       "      <th>Rank</th>\n",
       "      <th>Title</th>\n",
       "      <th>Year</th>\n",
       "      <th>Decade</th>\n",
       "    </tr>\n",
       "  </thead>\n",
       "  <tbody>\n",
       "    <tr>\n",
       "      <th>173</th>\n",
       "      <td>55784</td>\n",
       "      <td>8.3</td>\n",
       "      <td>The Kid (1921)</td>\n",
       "      <td>1921</td>\n",
       "      <td>1920</td>\n",
       "    </tr>\n",
       "    <tr>\n",
       "      <th>205</th>\n",
       "      <td>58506</td>\n",
       "      <td>8.2</td>\n",
       "      <td>The Gold Rush (1925)</td>\n",
       "      <td>1925</td>\n",
       "      <td>1920</td>\n",
       "    </tr>\n",
       "    <tr>\n",
       "      <th>146</th>\n",
       "      <td>46332</td>\n",
       "      <td>8.2</td>\n",
       "      <td>The General (1926)</td>\n",
       "      <td>1926</td>\n",
       "      <td>1920</td>\n",
       "    </tr>\n",
       "    <tr>\n",
       "      <th>49</th>\n",
       "      <td>98794</td>\n",
       "      <td>8.3</td>\n",
       "      <td>Metropolis (1927)</td>\n",
       "      <td>1927</td>\n",
       "      <td>1920</td>\n",
       "    </tr>\n",
       "    <tr>\n",
       "      <th>216</th>\n",
       "      <td>92375</td>\n",
       "      <td>8.5</td>\n",
       "      <td>City Lights (1931)</td>\n",
       "      <td>1931</td>\n",
       "      <td>1930</td>\n",
       "    </tr>\n",
       "    <tr>\n",
       "      <th>10</th>\n",
       "      <td>56842</td>\n",
       "      <td>8.1</td>\n",
       "      <td>It Happened One Night (1934)</td>\n",
       "      <td>1934</td>\n",
       "      <td>1930</td>\n",
       "    </tr>\n",
       "    <tr>\n",
       "      <th>212</th>\n",
       "      <td>121668</td>\n",
       "      <td>8.5</td>\n",
       "      <td>Modern Times (1936)</td>\n",
       "      <td>1936</td>\n",
       "      <td>1930</td>\n",
       "    </tr>\n",
       "    <tr>\n",
       "      <th>101</th>\n",
       "      <td>259235</td>\n",
       "      <td>8.1</td>\n",
       "      <td>The Wizard of Oz (1939)</td>\n",
       "      <td>1939</td>\n",
       "      <td>1930</td>\n",
       "    </tr>\n",
       "    <tr>\n",
       "      <th>188</th>\n",
       "      <td>192791</td>\n",
       "      <td>8.1</td>\n",
       "      <td>Gone with the Wind (1939)</td>\n",
       "      <td>1939</td>\n",
       "      <td>1930</td>\n",
       "    </tr>\n",
       "    <tr>\n",
       "      <th>17</th>\n",
       "      <td>69510</td>\n",
       "      <td>8.2</td>\n",
       "      <td>Mr. Smith Goes to Washington (1939)</td>\n",
       "      <td>1939</td>\n",
       "      <td>1930</td>\n",
       "    </tr>\n",
       "  </tbody>\n",
       "</table>\n",
       "</div>"
      ],
      "text/plain": [
       "      Votes  Rank                                Title  Year  Decade\n",
       "173   55784   8.3                       The Kid (1921)  1921    1920\n",
       "205   58506   8.2                 The Gold Rush (1925)  1925    1920\n",
       "146   46332   8.2                   The General (1926)  1926    1920\n",
       "49    98794   8.3                    Metropolis (1927)  1927    1920\n",
       "216   92375   8.5                   City Lights (1931)  1931    1930\n",
       "10    56842   8.1         It Happened One Night (1934)  1934    1930\n",
       "212  121668   8.5                  Modern Times (1936)  1936    1930\n",
       "101  259235   8.1              The Wizard of Oz (1939)  1939    1930\n",
       "188  192791   8.1            Gone with the Wind (1939)  1939    1930\n",
       "17    69510   8.2  Mr. Smith Goes to Washington (1939)  1939    1930"
      ]
     },
     "execution_count": 123,
     "metadata": {},
     "output_type": "execute_result"
    }
   ],
   "source": [
    "#14. How to sort by a column?\n",
    "# by default, not in place\n",
    "df_1.sort_values(by=['Year', 'Rank'], ascending=True).head(10) "
   ]
  },
  {
   "cell_type": "code",
   "execution_count": 124,
   "id": "806fc88b",
   "metadata": {},
   "outputs": [
    {
     "data": {
      "text/plain": [
       "1    132.823\n",
       "2     74.178\n",
       "3    635.139\n",
       "4    145.514\n",
       "5    425.461\n",
       "Name: Votes, dtype: float64"
      ]
     },
     "execution_count": 124,
     "metadata": {},
     "output_type": "execute_result"
    }
   ],
   "source": [
    "#15. How to apply a function to each element to a series?¶\n",
    "def reformat_votes(v):\n",
    "    return v / 1000\n",
    "\n",
    "df_1['Votes'].apply(reformat_votes).head()"
   ]
  },
  {
   "cell_type": "code",
   "execution_count": 125,
   "id": "a9eec989",
   "metadata": {},
   "outputs": [
    {
     "data": {
      "text/plain": [
       "1    1328.23\n",
       "2     741.78\n",
       "3    6351.39\n",
       "4    1455.14\n",
       "5    4254.61\n",
       "Name: Votes, dtype: float64"
      ]
     },
     "execution_count": 125,
     "metadata": {},
     "output_type": "execute_result"
    }
   ],
   "source": [
    "def reformat_votes(v, size):\n",
    "    return v / size\n",
    "\n",
    "df_1['Votes'].apply(reformat_votes, size=100).head()"
   ]
  },
  {
   "cell_type": "code",
   "execution_count": 126,
   "id": "7f9eff5d",
   "metadata": {},
   "outputs": [
    {
     "data": {
      "text/plain": [
       "1    16002.771084\n",
       "2     8937.108434\n",
       "3    73853.372093\n",
       "4    17745.609756\n",
       "5    51260.361446\n",
       "dtype: float64"
      ]
     },
     "execution_count": 126,
     "metadata": {},
     "output_type": "execute_result"
    }
   ],
   "source": [
    "def votes_per_rank(row):\n",
    "    return row['Votes'] / row['Rank']\n",
    "\n",
    "df_1[['Votes', 'Rank']].apply(votes_per_rank, axis=1).head()"
   ]
  },
  {
   "cell_type": "code",
   "execution_count": 127,
   "id": "a050320d",
   "metadata": {},
   "outputs": [
    {
     "data": {
      "text/html": [
       "<div>\n",
       "<style scoped>\n",
       "    .dataframe tbody tr th:only-of-type {\n",
       "        vertical-align: middle;\n",
       "    }\n",
       "\n",
       "    .dataframe tbody tr th {\n",
       "        vertical-align: top;\n",
       "    }\n",
       "\n",
       "    .dataframe thead th {\n",
       "        text-align: right;\n",
       "    }\n",
       "</style>\n",
       "<table border=\"1\" class=\"dataframe\">\n",
       "  <thead>\n",
       "    <tr style=\"text-align: right;\">\n",
       "      <th></th>\n",
       "      <th>Joe</th>\n",
       "      <th>Ben</th>\n",
       "      <th>Ann</th>\n",
       "    </tr>\n",
       "  </thead>\n",
       "  <tbody>\n",
       "    <tr>\n",
       "      <th>0</th>\n",
       "      <td>6.0</td>\n",
       "      <td>7.5</td>\n",
       "      <td>8.0</td>\n",
       "    </tr>\n",
       "    <tr>\n",
       "      <th>1</th>\n",
       "      <td>0.0</td>\n",
       "      <td>1.0</td>\n",
       "      <td>2.0</td>\n",
       "    </tr>\n",
       "    <tr>\n",
       "      <th>2</th>\n",
       "      <td>4.0</td>\n",
       "      <td>2.0</td>\n",
       "      <td>6.0</td>\n",
       "    </tr>\n",
       "  </tbody>\n",
       "</table>\n",
       "</div>"
      ],
      "text/plain": [
       "   Joe  Ben  Ann\n",
       "0  6.0  7.5  8.0\n",
       "1  0.0  1.0  2.0\n",
       "2  4.0  2.0  6.0"
      ]
     },
     "execution_count": 127,
     "metadata": {},
     "output_type": "execute_result"
    }
   ],
   "source": [
    "# 16. How to apply a function to all elements in a data frame?\n",
    "df_3"
   ]
  },
  {
   "cell_type": "code",
   "execution_count": 128,
   "id": "b0870cb0",
   "metadata": {},
   "outputs": [
    {
     "data": {
      "text/html": [
       "<div>\n",
       "<style scoped>\n",
       "    .dataframe tbody tr th:only-of-type {\n",
       "        vertical-align: middle;\n",
       "    }\n",
       "\n",
       "    .dataframe tbody tr th {\n",
       "        vertical-align: top;\n",
       "    }\n",
       "\n",
       "    .dataframe thead th {\n",
       "        text-align: right;\n",
       "    }\n",
       "</style>\n",
       "<table border=\"1\" class=\"dataframe\">\n",
       "  <thead>\n",
       "    <tr style=\"text-align: right;\">\n",
       "      <th></th>\n",
       "      <th>Joe</th>\n",
       "      <th>Ben</th>\n",
       "      <th>Ann</th>\n",
       "    </tr>\n",
       "  </thead>\n",
       "  <tbody>\n",
       "    <tr>\n",
       "      <th>0</th>\n",
       "      <td>60.0</td>\n",
       "      <td>75.0</td>\n",
       "      <td>80.0</td>\n",
       "    </tr>\n",
       "    <tr>\n",
       "      <th>1</th>\n",
       "      <td>0.0</td>\n",
       "      <td>10.0</td>\n",
       "      <td>20.0</td>\n",
       "    </tr>\n",
       "    <tr>\n",
       "      <th>2</th>\n",
       "      <td>40.0</td>\n",
       "      <td>20.0</td>\n",
       "      <td>60.0</td>\n",
       "    </tr>\n",
       "  </tbody>\n",
       "</table>\n",
       "</div>"
      ],
      "text/plain": [
       "    Joe   Ben   Ann\n",
       "0  60.0  75.0  80.0\n",
       "1   0.0  10.0  20.0\n",
       "2  40.0  20.0  60.0"
      ]
     },
     "execution_count": 128,
     "metadata": {},
     "output_type": "execute_result"
    }
   ],
   "source": [
    "def multiply_by_10(val):\n",
    "    return val * 10\n",
    "\n",
    "new_df_3 = df_3.applymap(multiply_by_10)\n",
    "new_df_3"
   ]
  },
  {
   "cell_type": "code",
   "execution_count": 129,
   "id": "2c0c3bf7",
   "metadata": {},
   "outputs": [
    {
     "data": {
      "text/html": [
       "<div>\n",
       "<style scoped>\n",
       "    .dataframe tbody tr th:only-of-type {\n",
       "        vertical-align: middle;\n",
       "    }\n",
       "\n",
       "    .dataframe tbody tr th {\n",
       "        vertical-align: top;\n",
       "    }\n",
       "\n",
       "    .dataframe thead th {\n",
       "        text-align: right;\n",
       "    }\n",
       "</style>\n",
       "<table border=\"1\" class=\"dataframe\">\n",
       "  <thead>\n",
       "    <tr style=\"text-align: right;\">\n",
       "      <th></th>\n",
       "      <th>Votes</th>\n",
       "      <th>Rank</th>\n",
       "      <th>Title</th>\n",
       "      <th>Year</th>\n",
       "      <th>Decade</th>\n",
       "    </tr>\n",
       "  </thead>\n",
       "  <tbody>\n",
       "    <tr>\n",
       "      <th>4</th>\n",
       "      <td>145514</td>\n",
       "      <td>8.2</td>\n",
       "      <td>The Elephant Man (1980)</td>\n",
       "      <td>1980</td>\n",
       "      <td>1980</td>\n",
       "    </tr>\n",
       "    <tr>\n",
       "      <th>38</th>\n",
       "      <td>532559</td>\n",
       "      <td>8.4</td>\n",
       "      <td>The Shining (1980)</td>\n",
       "      <td>1980</td>\n",
       "      <td>1980</td>\n",
       "    </tr>\n",
       "    <tr>\n",
       "      <th>67</th>\n",
       "      <td>96190</td>\n",
       "      <td>8.3</td>\n",
       "      <td>The Apartment (1960)</td>\n",
       "      <td>1960</td>\n",
       "      <td>1960</td>\n",
       "    </tr>\n",
       "    <tr>\n",
       "      <th>156</th>\n",
       "      <td>700283</td>\n",
       "      <td>8.7</td>\n",
       "      <td>Star Wars: Episode V - The Empire Strikes Back...</td>\n",
       "      <td>1980</td>\n",
       "      <td>1980</td>\n",
       "    </tr>\n",
       "    <tr>\n",
       "      <th>200</th>\n",
       "      <td>210647</td>\n",
       "      <td>8.2</td>\n",
       "      <td>Raging Bull (1980)</td>\n",
       "      <td>1980</td>\n",
       "      <td>1980</td>\n",
       "    </tr>\n",
       "    <tr>\n",
       "      <th>219</th>\n",
       "      <td>371791</td>\n",
       "      <td>8.5</td>\n",
       "      <td>Psycho (1960)</td>\n",
       "      <td>1960</td>\n",
       "      <td>1960</td>\n",
       "    </tr>\n",
       "  </tbody>\n",
       "</table>\n",
       "</div>"
      ],
      "text/plain": [
       "      Votes  Rank                                              Title  Year  \\\n",
       "4    145514   8.2                            The Elephant Man (1980)  1980   \n",
       "38   532559   8.4                                 The Shining (1980)  1980   \n",
       "67    96190   8.3                               The Apartment (1960)  1960   \n",
       "156  700283   8.7  Star Wars: Episode V - The Empire Strikes Back...  1980   \n",
       "200  210647   8.2                                 Raging Bull (1980)  1980   \n",
       "219  371791   8.5                                      Psycho (1960)  1960   \n",
       "\n",
       "     Decade  \n",
       "4      1980  \n",
       "38     1980  \n",
       "67     1960  \n",
       "156    1980  \n",
       "200    1980  \n",
       "219    1960  "
      ]
     },
     "execution_count": 129,
     "metadata": {},
     "output_type": "execute_result"
    }
   ],
   "source": [
    "#17. How to slice a data frame if values of a series lie in a list?¶\n",
    "df_1[df_1['Year'].isin([1980, 1970, 1960])]"
   ]
  },
  {
   "cell_type": "code",
   "execution_count": 130,
   "id": "0d445121",
   "metadata": {},
   "outputs": [
    {
     "data": {
      "text/html": [
       "<div>\n",
       "<style scoped>\n",
       "    .dataframe tbody tr th:only-of-type {\n",
       "        vertical-align: middle;\n",
       "    }\n",
       "\n",
       "    .dataframe tbody tr th {\n",
       "        vertical-align: top;\n",
       "    }\n",
       "\n",
       "    .dataframe thead th {\n",
       "        text-align: right;\n",
       "    }\n",
       "</style>\n",
       "<table border=\"1\" class=\"dataframe\">\n",
       "  <thead>\n",
       "    <tr style=\"text-align: right;\">\n",
       "      <th></th>\n",
       "      <th>Votes</th>\n",
       "      <th>Rank</th>\n",
       "      <th>Title</th>\n",
       "      <th>Year</th>\n",
       "      <th>Decade</th>\n",
       "    </tr>\n",
       "  </thead>\n",
       "  <tbody>\n",
       "    <tr>\n",
       "      <th>3</th>\n",
       "      <td>635139</td>\n",
       "      <td>8.6</td>\n",
       "      <td>Léon (1994)</td>\n",
       "      <td>1994</td>\n",
       "      <td>1990</td>\n",
       "    </tr>\n",
       "    <tr>\n",
       "      <th>4</th>\n",
       "      <td>145514</td>\n",
       "      <td>8.2</td>\n",
       "      <td>The Elephant Man (1980)</td>\n",
       "      <td>1980</td>\n",
       "      <td>1980</td>\n",
       "    </tr>\n",
       "    <tr>\n",
       "      <th>5</th>\n",
       "      <td>425461</td>\n",
       "      <td>8.3</td>\n",
       "      <td>Full Metal Jacket (1987)</td>\n",
       "      <td>1987</td>\n",
       "      <td>1980</td>\n",
       "    </tr>\n",
       "    <tr>\n",
       "      <th>6</th>\n",
       "      <td>441174</td>\n",
       "      <td>8.1</td>\n",
       "      <td>Gone Girl (2014)</td>\n",
       "      <td>2014</td>\n",
       "      <td>2010</td>\n",
       "    </tr>\n",
       "    <tr>\n",
       "      <th>7</th>\n",
       "      <td>850601</td>\n",
       "      <td>8.3</td>\n",
       "      <td>Batman Begins (2005)</td>\n",
       "      <td>2005</td>\n",
       "      <td>2000</td>\n",
       "    </tr>\n",
       "  </tbody>\n",
       "</table>\n",
       "</div>"
      ],
      "text/plain": [
       "    Votes  Rank                     Title  Year  Decade\n",
       "3  635139   8.6               Léon (1994)  1994    1990\n",
       "4  145514   8.2   The Elephant Man (1980)  1980    1980\n",
       "5  425461   8.3  Full Metal Jacket (1987)  1987    1980\n",
       "6  441174   8.1          Gone Girl (2014)  2014    2010\n",
       "7  850601   8.3      Batman Begins (2005)  2005    2000"
      ]
     },
     "execution_count": 130,
     "metadata": {},
     "output_type": "execute_result"
    }
   ],
   "source": [
    "df_1[~df_1['Decade'].isin([1950, 1960, 1970, 1930])].head()\n"
   ]
  },
  {
   "cell_type": "code",
   "execution_count": 131,
   "id": "1baa5e5f",
   "metadata": {},
   "outputs": [
    {
     "data": {
      "text/html": [
       "<div>\n",
       "<style scoped>\n",
       "    .dataframe tbody tr th:only-of-type {\n",
       "        vertical-align: middle;\n",
       "    }\n",
       "\n",
       "    .dataframe tbody tr th {\n",
       "        vertical-align: top;\n",
       "    }\n",
       "\n",
       "    .dataframe thead th {\n",
       "        text-align: right;\n",
       "    }\n",
       "</style>\n",
       "<table border=\"1\" class=\"dataframe\">\n",
       "  <thead>\n",
       "    <tr style=\"text-align: right;\">\n",
       "      <th></th>\n",
       "      <th>Rank</th>\n",
       "    </tr>\n",
       "    <tr>\n",
       "      <th>Decade</th>\n",
       "      <th></th>\n",
       "    </tr>\n",
       "  </thead>\n",
       "  <tbody>\n",
       "    <tr>\n",
       "      <th>1920</th>\n",
       "      <td>8.250000</td>\n",
       "    </tr>\n",
       "    <tr>\n",
       "      <th>1930</th>\n",
       "      <td>8.250000</td>\n",
       "    </tr>\n",
       "    <tr>\n",
       "      <th>1940</th>\n",
       "      <td>8.257143</td>\n",
       "    </tr>\n",
       "    <tr>\n",
       "      <th>1950</th>\n",
       "      <td>8.233333</td>\n",
       "    </tr>\n",
       "    <tr>\n",
       "      <th>1960</th>\n",
       "      <td>8.231818</td>\n",
       "    </tr>\n",
       "    <tr>\n",
       "      <th>1970</th>\n",
       "      <td>8.309524</td>\n",
       "    </tr>\n",
       "    <tr>\n",
       "      <th>1980</th>\n",
       "      <td>8.241935</td>\n",
       "    </tr>\n",
       "    <tr>\n",
       "      <th>1990</th>\n",
       "      <td>8.357143</td>\n",
       "    </tr>\n",
       "    <tr>\n",
       "      <th>2000</th>\n",
       "      <td>8.260000</td>\n",
       "    </tr>\n",
       "    <tr>\n",
       "      <th>2010</th>\n",
       "      <td>8.200000</td>\n",
       "    </tr>\n",
       "  </tbody>\n",
       "</table>\n",
       "</div>"
      ],
      "text/plain": [
       "            Rank\n",
       "Decade          \n",
       "1920    8.250000\n",
       "1930    8.250000\n",
       "1940    8.257143\n",
       "1950    8.233333\n",
       "1960    8.231818\n",
       "1970    8.309524\n",
       "1980    8.241935\n",
       "1990    8.357143\n",
       "2000    8.260000\n",
       "2010    8.200000"
      ]
     },
     "execution_count": 131,
     "metadata": {},
     "output_type": "execute_result"
    }
   ],
   "source": [
    "#18. How to group-by column values and aggregate over another column or apply a function to it?\n",
    "df_1.groupby(['Decade']).agg({'Rank':'mean'})"
   ]
  },
  {
   "cell_type": "code",
   "execution_count": 132,
   "id": "e6143d3c",
   "metadata": {},
   "outputs": [
    {
     "data": {
      "text/html": [
       "<div>\n",
       "<style scoped>\n",
       "    .dataframe tbody tr th:only-of-type {\n",
       "        vertical-align: middle;\n",
       "    }\n",
       "\n",
       "    .dataframe tbody tr th {\n",
       "        vertical-align: top;\n",
       "    }\n",
       "\n",
       "    .dataframe thead th {\n",
       "        text-align: right;\n",
       "    }\n",
       "</style>\n",
       "<table border=\"1\" class=\"dataframe\">\n",
       "  <thead>\n",
       "    <tr style=\"text-align: right;\">\n",
       "      <th></th>\n",
       "      <th>states</th>\n",
       "      <th>year</th>\n",
       "      <th>pop</th>\n",
       "    </tr>\n",
       "  </thead>\n",
       "  <tbody>\n",
       "    <tr>\n",
       "      <th>0</th>\n",
       "      <td>Ohio</td>\n",
       "      <td>2000</td>\n",
       "      <td>1.50</td>\n",
       "    </tr>\n",
       "    <tr>\n",
       "      <th>1</th>\n",
       "      <td>Ohio</td>\n",
       "      <td>2001</td>\n",
       "      <td>0.17</td>\n",
       "    </tr>\n",
       "    <tr>\n",
       "      <th>2</th>\n",
       "      <td>Ohio</td>\n",
       "      <td>2002</td>\n",
       "      <td>3.60</td>\n",
       "    </tr>\n",
       "    <tr>\n",
       "      <th>3</th>\n",
       "      <td>Nevada</td>\n",
       "      <td>2001</td>\n",
       "      <td>2.40</td>\n",
       "    </tr>\n",
       "    <tr>\n",
       "      <th>4</th>\n",
       "      <td>Nevada</td>\n",
       "      <td>2002</td>\n",
       "      <td>2.90</td>\n",
       "    </tr>\n",
       "    <tr>\n",
       "      <th>5</th>\n",
       "      <td>Nevada</td>\n",
       "      <td>2003</td>\n",
       "      <td>3.20</td>\n",
       "    </tr>\n",
       "  </tbody>\n",
       "</table>\n",
       "</div>"
      ],
      "text/plain": [
       "   states  year   pop\n",
       "0    Ohio  2000  1.50\n",
       "1    Ohio  2001  0.17\n",
       "2    Ohio  2002  3.60\n",
       "3  Nevada  2001  2.40\n",
       "4  Nevada  2002  2.90\n",
       "5  Nevada  2003  3.20"
      ]
     },
     "execution_count": 132,
     "metadata": {},
     "output_type": "execute_result"
    }
   ],
   "source": [
    "df_2"
   ]
  },
  {
   "cell_type": "code",
   "execution_count": 133,
   "id": "7bfe392b",
   "metadata": {},
   "outputs": [
    {
     "data": {
      "text/html": [
       "<div>\n",
       "<style scoped>\n",
       "    .dataframe tbody tr th:only-of-type {\n",
       "        vertical-align: middle;\n",
       "    }\n",
       "\n",
       "    .dataframe tbody tr th {\n",
       "        vertical-align: top;\n",
       "    }\n",
       "\n",
       "    .dataframe thead th {\n",
       "        text-align: right;\n",
       "    }\n",
       "</style>\n",
       "<table border=\"1\" class=\"dataframe\">\n",
       "  <thead>\n",
       "    <tr style=\"text-align: right;\">\n",
       "      <th></th>\n",
       "      <th>states</th>\n",
       "      <th>pop</th>\n",
       "    </tr>\n",
       "    <tr>\n",
       "      <th>year</th>\n",
       "      <th></th>\n",
       "      <th></th>\n",
       "    </tr>\n",
       "  </thead>\n",
       "  <tbody>\n",
       "    <tr>\n",
       "      <th>2000</th>\n",
       "      <td>[Ohio]</td>\n",
       "      <td>[1.5]</td>\n",
       "    </tr>\n",
       "    <tr>\n",
       "      <th>2001</th>\n",
       "      <td>[Ohio, Nevada]</td>\n",
       "      <td>[0.17, 2.4]</td>\n",
       "    </tr>\n",
       "    <tr>\n",
       "      <th>2002</th>\n",
       "      <td>[Ohio, Nevada]</td>\n",
       "      <td>[3.6, 2.9]</td>\n",
       "    </tr>\n",
       "    <tr>\n",
       "      <th>2003</th>\n",
       "      <td>[Nevada]</td>\n",
       "      <td>[3.2]</td>\n",
       "    </tr>\n",
       "  </tbody>\n",
       "</table>\n",
       "</div>"
      ],
      "text/plain": [
       "              states          pop\n",
       "year                             \n",
       "2000          [Ohio]        [1.5]\n",
       "2001  [Ohio, Nevada]  [0.17, 2.4]\n",
       "2002  [Ohio, Nevada]   [3.6, 2.9]\n",
       "2003        [Nevada]        [3.2]"
      ]
     },
     "execution_count": 133,
     "metadata": {},
     "output_type": "execute_result"
    }
   ],
   "source": [
    "new_df_2 = df_2.groupby(['year']).agg(list)\n",
    "new_df_2"
   ]
  },
  {
   "cell_type": "code",
   "execution_count": 134,
   "id": "fd1fd745",
   "metadata": {},
   "outputs": [
    {
     "data": {
      "text/html": [
       "<div>\n",
       "<style scoped>\n",
       "    .dataframe tbody tr th:only-of-type {\n",
       "        vertical-align: middle;\n",
       "    }\n",
       "\n",
       "    .dataframe tbody tr th {\n",
       "        vertical-align: top;\n",
       "    }\n",
       "\n",
       "    .dataframe thead th {\n",
       "        text-align: right;\n",
       "    }\n",
       "</style>\n",
       "<table border=\"1\" class=\"dataframe\">\n",
       "  <thead>\n",
       "    <tr style=\"text-align: right;\">\n",
       "      <th></th>\n",
       "      <th>Votes</th>\n",
       "      <th>Rank</th>\n",
       "      <th>Title</th>\n",
       "      <th>Year</th>\n",
       "      <th>Decade</th>\n",
       "    </tr>\n",
       "  </thead>\n",
       "  <tbody>\n",
       "    <tr>\n",
       "      <th>119</th>\n",
       "      <td>36725</td>\n",
       "      <td>8.1</td>\n",
       "      <td>Les diaboliques (1955)</td>\n",
       "      <td>1955</td>\n",
       "      <td>1950</td>\n",
       "    </tr>\n",
       "    <tr>\n",
       "      <th>153</th>\n",
       "      <td>135556</td>\n",
       "      <td>8.3</td>\n",
       "      <td>Per qualche dollaro in più (1965)</td>\n",
       "      <td>1965</td>\n",
       "      <td>1960</td>\n",
       "    </tr>\n",
       "    <tr>\n",
       "      <th>205</th>\n",
       "      <td>58506</td>\n",
       "      <td>8.2</td>\n",
       "      <td>The Gold Rush (1925)</td>\n",
       "      <td>1925</td>\n",
       "      <td>1920</td>\n",
       "    </tr>\n",
       "    <tr>\n",
       "      <th>237</th>\n",
       "      <td>57974</td>\n",
       "      <td>8.0</td>\n",
       "      <td>The Night of the Hunter (1955)</td>\n",
       "      <td>1955</td>\n",
       "      <td>1950</td>\n",
       "    </tr>\n",
       "  </tbody>\n",
       "</table>\n",
       "</div>"
      ],
      "text/plain": [
       "      Votes  Rank                              Title  Year  Decade\n",
       "119   36725   8.1             Les diaboliques (1955)  1955    1950\n",
       "153  135556   8.3  Per qualche dollaro in più (1965)  1965    1960\n",
       "205   58506   8.2               The Gold Rush (1925)  1925    1920\n",
       "237   57974   8.0     The Night of the Hunter (1955)  1955    1950"
      ]
     },
     "execution_count": 134,
     "metadata": {},
     "output_type": "execute_result"
    }
   ],
   "source": [
    "#19. How to create duplicates for other columns for each element in a list of a particular column?\n",
    "\n",
    "#20. How to concatenate two data frames?\n",
    "mask_4 = df_1['Year'].isin([1925, 1935, 1945, 1955, 1965])\n",
    "movies_on_the_fives = df_1[mask_4]\n",
    "movies_on_the_fives"
   ]
  },
  {
   "cell_type": "code",
   "execution_count": 135,
   "id": "39ce63ce",
   "metadata": {},
   "outputs": [
    {
     "data": {
      "text/html": [
       "<div>\n",
       "<style scoped>\n",
       "    .dataframe tbody tr th:only-of-type {\n",
       "        vertical-align: middle;\n",
       "    }\n",
       "\n",
       "    .dataframe tbody tr th {\n",
       "        vertical-align: top;\n",
       "    }\n",
       "\n",
       "    .dataframe thead th {\n",
       "        text-align: right;\n",
       "    }\n",
       "</style>\n",
       "<table border=\"1\" class=\"dataframe\">\n",
       "  <thead>\n",
       "    <tr style=\"text-align: right;\">\n",
       "      <th></th>\n",
       "      <th>Votes</th>\n",
       "      <th>Rank</th>\n",
       "      <th>Title</th>\n",
       "      <th>Year</th>\n",
       "      <th>Decade</th>\n",
       "    </tr>\n",
       "  </thead>\n",
       "  <tbody>\n",
       "    <tr>\n",
       "      <th>87</th>\n",
       "      <td>1177098</td>\n",
       "      <td>8.8</td>\n",
       "      <td>Fight Club (1999)</td>\n",
       "      <td>1999</td>\n",
       "      <td>1990</td>\n",
       "    </tr>\n",
       "    <tr>\n",
       "      <th>178</th>\n",
       "      <td>1099087</td>\n",
       "      <td>8.8</td>\n",
       "      <td>The Lord of the Rings: The Fellowship of the R...</td>\n",
       "      <td>2001</td>\n",
       "      <td>2000</td>\n",
       "    </tr>\n",
       "  </tbody>\n",
       "</table>\n",
       "</div>"
      ],
      "text/plain": [
       "       Votes  Rank                                              Title  Year  \\\n",
       "87   1177098   8.8                                  Fight Club (1999)  1999   \n",
       "178  1099087   8.8  The Lord of the Rings: The Fellowship of the R...  2001   \n",
       "\n",
       "     Decade  \n",
       "87     1990  \n",
       "178    2000  "
      ]
     },
     "execution_count": 135,
     "metadata": {},
     "output_type": "execute_result"
    }
   ],
   "source": [
    "mask_5 = (df_1['Rank'] == 8.8)\n",
    "movies_8_8 = df_1[mask_5]\n",
    "movies_8_8"
   ]
  },
  {
   "cell_type": "code",
   "execution_count": 136,
   "id": "7c4bffa0",
   "metadata": {},
   "outputs": [
    {
     "data": {
      "text/html": [
       "<div>\n",
       "<style scoped>\n",
       "    .dataframe tbody tr th:only-of-type {\n",
       "        vertical-align: middle;\n",
       "    }\n",
       "\n",
       "    .dataframe tbody tr th {\n",
       "        vertical-align: top;\n",
       "    }\n",
       "\n",
       "    .dataframe thead th {\n",
       "        text-align: right;\n",
       "    }\n",
       "</style>\n",
       "<table border=\"1\" class=\"dataframe\">\n",
       "  <thead>\n",
       "    <tr style=\"text-align: right;\">\n",
       "      <th></th>\n",
       "      <th>Votes</th>\n",
       "      <th>Rank</th>\n",
       "      <th>Title</th>\n",
       "      <th>Year</th>\n",
       "      <th>Decade</th>\n",
       "    </tr>\n",
       "  </thead>\n",
       "  <tbody>\n",
       "    <tr>\n",
       "      <th>119</th>\n",
       "      <td>36725</td>\n",
       "      <td>8.1</td>\n",
       "      <td>Les diaboliques (1955)</td>\n",
       "      <td>1955</td>\n",
       "      <td>1950</td>\n",
       "    </tr>\n",
       "    <tr>\n",
       "      <th>153</th>\n",
       "      <td>135556</td>\n",
       "      <td>8.3</td>\n",
       "      <td>Per qualche dollaro in più (1965)</td>\n",
       "      <td>1965</td>\n",
       "      <td>1960</td>\n",
       "    </tr>\n",
       "    <tr>\n",
       "      <th>205</th>\n",
       "      <td>58506</td>\n",
       "      <td>8.2</td>\n",
       "      <td>The Gold Rush (1925)</td>\n",
       "      <td>1925</td>\n",
       "      <td>1920</td>\n",
       "    </tr>\n",
       "    <tr>\n",
       "      <th>237</th>\n",
       "      <td>57974</td>\n",
       "      <td>8.0</td>\n",
       "      <td>The Night of the Hunter (1955)</td>\n",
       "      <td>1955</td>\n",
       "      <td>1950</td>\n",
       "    </tr>\n",
       "    <tr>\n",
       "      <th>87</th>\n",
       "      <td>1177098</td>\n",
       "      <td>8.8</td>\n",
       "      <td>Fight Club (1999)</td>\n",
       "      <td>1999</td>\n",
       "      <td>1990</td>\n",
       "    </tr>\n",
       "    <tr>\n",
       "      <th>178</th>\n",
       "      <td>1099087</td>\n",
       "      <td>8.8</td>\n",
       "      <td>The Lord of the Rings: The Fellowship of the R...</td>\n",
       "      <td>2001</td>\n",
       "      <td>2000</td>\n",
       "    </tr>\n",
       "  </tbody>\n",
       "</table>\n",
       "</div>"
      ],
      "text/plain": [
       "       Votes  Rank                                              Title  Year  \\\n",
       "119    36725   8.1                             Les diaboliques (1955)  1955   \n",
       "153   135556   8.3                  Per qualche dollaro in più (1965)  1965   \n",
       "205    58506   8.2                               The Gold Rush (1925)  1925   \n",
       "237    57974   8.0                     The Night of the Hunter (1955)  1955   \n",
       "87   1177098   8.8                                  Fight Club (1999)  1999   \n",
       "178  1099087   8.8  The Lord of the Rings: The Fellowship of the R...  2001   \n",
       "\n",
       "     Decade  \n",
       "119    1950  \n",
       "153    1960  \n",
       "205    1920  \n",
       "237    1950  \n",
       "87     1990  \n",
       "178    2000  "
      ]
     },
     "execution_count": 136,
     "metadata": {},
     "output_type": "execute_result"
    }
   ],
   "source": [
    "# vertical concatenation \n",
    "movies_on_fives_and_8_8 = pd.concat([movies_on_the_fives, movies_8_8], axis=0)\n",
    "movies_on_fives_and_8_8"
   ]
  },
  {
   "cell_type": "code",
   "execution_count": 137,
   "id": "6de9ba9a",
   "metadata": {},
   "outputs": [],
   "source": [
    "df_4 = pd.DataFrame({'Tim': [85, 90, 76], 'Tom': [67, 45, 80], 'Jen': [99, 94, 87]}, index=(['Quiz 1', 'Quiz 2', 'Quiz 3']))\n"
   ]
  },
  {
   "cell_type": "code",
   "execution_count": 138,
   "id": "6b40db70",
   "metadata": {},
   "outputs": [
    {
     "data": {
      "text/html": [
       "<div>\n",
       "<style scoped>\n",
       "    .dataframe tbody tr th:only-of-type {\n",
       "        vertical-align: middle;\n",
       "    }\n",
       "\n",
       "    .dataframe tbody tr th {\n",
       "        vertical-align: top;\n",
       "    }\n",
       "\n",
       "    .dataframe thead th {\n",
       "        text-align: right;\n",
       "    }\n",
       "</style>\n",
       "<table border=\"1\" class=\"dataframe\">\n",
       "  <thead>\n",
       "    <tr style=\"text-align: right;\">\n",
       "      <th></th>\n",
       "      <th>Tim</th>\n",
       "      <th>Tom</th>\n",
       "      <th>Jen</th>\n",
       "    </tr>\n",
       "  </thead>\n",
       "  <tbody>\n",
       "    <tr>\n",
       "      <th>Quiz 1</th>\n",
       "      <td>85</td>\n",
       "      <td>67</td>\n",
       "      <td>99</td>\n",
       "    </tr>\n",
       "    <tr>\n",
       "      <th>Quiz 2</th>\n",
       "      <td>90</td>\n",
       "      <td>45</td>\n",
       "      <td>94</td>\n",
       "    </tr>\n",
       "    <tr>\n",
       "      <th>Quiz 3</th>\n",
       "      <td>76</td>\n",
       "      <td>80</td>\n",
       "      <td>87</td>\n",
       "    </tr>\n",
       "  </tbody>\n",
       "</table>\n",
       "</div>"
      ],
      "text/plain": [
       "        Tim  Tom  Jen\n",
       "Quiz 1   85   67   99\n",
       "Quiz 2   90   45   94\n",
       "Quiz 3   76   80   87"
      ]
     },
     "execution_count": 138,
     "metadata": {},
     "output_type": "execute_result"
    }
   ],
   "source": [
    "df_4"
   ]
  },
  {
   "cell_type": "code",
   "execution_count": 139,
   "id": "0a3960c4",
   "metadata": {},
   "outputs": [],
   "source": [
    "df_5 = pd.DataFrame({'Rob': [57, 20, 67], 'Ken': [76, 54, 60], 'Amy': [90, 49, 78]}, index=(['Quiz 1', 'Quiz 2', 'Quiz 3']))\n"
   ]
  },
  {
   "cell_type": "code",
   "execution_count": 140,
   "id": "f51e7a7a",
   "metadata": {},
   "outputs": [
    {
     "data": {
      "text/html": [
       "<div>\n",
       "<style scoped>\n",
       "    .dataframe tbody tr th:only-of-type {\n",
       "        vertical-align: middle;\n",
       "    }\n",
       "\n",
       "    .dataframe tbody tr th {\n",
       "        vertical-align: top;\n",
       "    }\n",
       "\n",
       "    .dataframe thead th {\n",
       "        text-align: right;\n",
       "    }\n",
       "</style>\n",
       "<table border=\"1\" class=\"dataframe\">\n",
       "  <thead>\n",
       "    <tr style=\"text-align: right;\">\n",
       "      <th></th>\n",
       "      <th>Rob</th>\n",
       "      <th>Ken</th>\n",
       "      <th>Amy</th>\n",
       "    </tr>\n",
       "  </thead>\n",
       "  <tbody>\n",
       "    <tr>\n",
       "      <th>Quiz 1</th>\n",
       "      <td>57</td>\n",
       "      <td>76</td>\n",
       "      <td>90</td>\n",
       "    </tr>\n",
       "    <tr>\n",
       "      <th>Quiz 2</th>\n",
       "      <td>20</td>\n",
       "      <td>54</td>\n",
       "      <td>49</td>\n",
       "    </tr>\n",
       "    <tr>\n",
       "      <th>Quiz 3</th>\n",
       "      <td>67</td>\n",
       "      <td>60</td>\n",
       "      <td>78</td>\n",
       "    </tr>\n",
       "  </tbody>\n",
       "</table>\n",
       "</div>"
      ],
      "text/plain": [
       "        Rob  Ken  Amy\n",
       "Quiz 1   57   76   90\n",
       "Quiz 2   20   54   49\n",
       "Quiz 3   67   60   78"
      ]
     },
     "execution_count": 140,
     "metadata": {},
     "output_type": "execute_result"
    }
   ],
   "source": [
    "df_5"
   ]
  },
  {
   "cell_type": "code",
   "execution_count": 141,
   "id": "7ce0aae1",
   "metadata": {},
   "outputs": [
    {
     "data": {
      "text/html": [
       "<div>\n",
       "<style scoped>\n",
       "    .dataframe tbody tr th:only-of-type {\n",
       "        vertical-align: middle;\n",
       "    }\n",
       "\n",
       "    .dataframe tbody tr th {\n",
       "        vertical-align: top;\n",
       "    }\n",
       "\n",
       "    .dataframe thead th {\n",
       "        text-align: right;\n",
       "    }\n",
       "</style>\n",
       "<table border=\"1\" class=\"dataframe\">\n",
       "  <thead>\n",
       "    <tr style=\"text-align: right;\">\n",
       "      <th></th>\n",
       "      <th>Tim</th>\n",
       "      <th>Tom</th>\n",
       "      <th>Jen</th>\n",
       "      <th>Rob</th>\n",
       "      <th>Ken</th>\n",
       "      <th>Amy</th>\n",
       "    </tr>\n",
       "  </thead>\n",
       "  <tbody>\n",
       "    <tr>\n",
       "      <th>Quiz 1</th>\n",
       "      <td>85</td>\n",
       "      <td>67</td>\n",
       "      <td>99</td>\n",
       "      <td>57</td>\n",
       "      <td>76</td>\n",
       "      <td>90</td>\n",
       "    </tr>\n",
       "    <tr>\n",
       "      <th>Quiz 2</th>\n",
       "      <td>90</td>\n",
       "      <td>45</td>\n",
       "      <td>94</td>\n",
       "      <td>20</td>\n",
       "      <td>54</td>\n",
       "      <td>49</td>\n",
       "    </tr>\n",
       "    <tr>\n",
       "      <th>Quiz 3</th>\n",
       "      <td>76</td>\n",
       "      <td>80</td>\n",
       "      <td>87</td>\n",
       "      <td>67</td>\n",
       "      <td>60</td>\n",
       "      <td>78</td>\n",
       "    </tr>\n",
       "  </tbody>\n",
       "</table>\n",
       "</div>"
      ],
      "text/plain": [
       "        Tim  Tom  Jen  Rob  Ken  Amy\n",
       "Quiz 1   85   67   99   57   76   90\n",
       "Quiz 2   90   45   94   20   54   49\n",
       "Quiz 3   76   80   87   67   60   78"
      ]
     },
     "execution_count": 141,
     "metadata": {},
     "output_type": "execute_result"
    }
   ],
   "source": [
    "# for horizontal concatenation \n",
    "combined_df = pd.concat([df_4, df_5], axis=1)\n",
    "combined_df "
   ]
  },
  {
   "cell_type": "code",
   "execution_count": 142,
   "id": "476177f3",
   "metadata": {},
   "outputs": [
    {
     "data": {
      "text/html": [
       "<div>\n",
       "<style scoped>\n",
       "    .dataframe tbody tr th:only-of-type {\n",
       "        vertical-align: middle;\n",
       "    }\n",
       "\n",
       "    .dataframe tbody tr th {\n",
       "        vertical-align: top;\n",
       "    }\n",
       "\n",
       "    .dataframe thead th {\n",
       "        text-align: right;\n",
       "    }\n",
       "</style>\n",
       "<table border=\"1\" class=\"dataframe\">\n",
       "  <thead>\n",
       "    <tr style=\"text-align: right;\">\n",
       "      <th></th>\n",
       "      <th>Name</th>\n",
       "      <th>Age</th>\n",
       "    </tr>\n",
       "  </thead>\n",
       "  <tbody>\n",
       "    <tr>\n",
       "      <th>0</th>\n",
       "      <td>Ed</td>\n",
       "      <td>76</td>\n",
       "    </tr>\n",
       "    <tr>\n",
       "      <th>1</th>\n",
       "      <td>Flo</td>\n",
       "      <td>54</td>\n",
       "    </tr>\n",
       "    <tr>\n",
       "      <th>2</th>\n",
       "      <td>Jed</td>\n",
       "      <td>60</td>\n",
       "    </tr>\n",
       "  </tbody>\n",
       "</table>\n",
       "</div>"
      ],
      "text/plain": [
       "  Name  Age\n",
       "0   Ed   76\n",
       "1  Flo   54\n",
       "2  Jed   60"
      ]
     },
     "execution_count": 142,
     "metadata": {},
     "output_type": "execute_result"
    }
   ],
   "source": [
    "#21. How to merge two data frames?¶\n",
    "df_6 = pd.DataFrame({'Name': ['Ed', 'Flo', 'Jed'], 'Age': [76, 54, 60]})\n",
    "df_6"
   ]
  },
  {
   "cell_type": "code",
   "execution_count": 143,
   "id": "f6bc490c",
   "metadata": {},
   "outputs": [
    {
     "data": {
      "text/html": [
       "<div>\n",
       "<style scoped>\n",
       "    .dataframe tbody tr th:only-of-type {\n",
       "        vertical-align: middle;\n",
       "    }\n",
       "\n",
       "    .dataframe tbody tr th {\n",
       "        vertical-align: top;\n",
       "    }\n",
       "\n",
       "    .dataframe thead th {\n",
       "        text-align: right;\n",
       "    }\n",
       "</style>\n",
       "<table border=\"1\" class=\"dataframe\">\n",
       "  <thead>\n",
       "    <tr style=\"text-align: right;\">\n",
       "      <th></th>\n",
       "      <th>Name</th>\n",
       "      <th>Salary</th>\n",
       "    </tr>\n",
       "  </thead>\n",
       "  <tbody>\n",
       "    <tr>\n",
       "      <th>0</th>\n",
       "      <td>Ed</td>\n",
       "      <td>95000</td>\n",
       "    </tr>\n",
       "    <tr>\n",
       "      <th>1</th>\n",
       "      <td>Flo</td>\n",
       "      <td>78000</td>\n",
       "    </tr>\n",
       "    <tr>\n",
       "      <th>2</th>\n",
       "      <td>Jed</td>\n",
       "      <td>57000</td>\n",
       "    </tr>\n",
       "  </tbody>\n",
       "</table>\n",
       "</div>"
      ],
      "text/plain": [
       "  Name  Salary\n",
       "0   Ed   95000\n",
       "1  Flo   78000\n",
       "2  Jed   57000"
      ]
     },
     "execution_count": 143,
     "metadata": {},
     "output_type": "execute_result"
    }
   ],
   "source": [
    "df_7 = pd.DataFrame({'Name': ['Ed', 'Flo', 'Jed'], 'Salary': [95000, 78000, 57000]})\n",
    "df_7"
   ]
  },
  {
   "cell_type": "code",
   "execution_count": 144,
   "id": "6580d2e7",
   "metadata": {},
   "outputs": [
    {
     "data": {
      "text/html": [
       "<div>\n",
       "<style scoped>\n",
       "    .dataframe tbody tr th:only-of-type {\n",
       "        vertical-align: middle;\n",
       "    }\n",
       "\n",
       "    .dataframe tbody tr th {\n",
       "        vertical-align: top;\n",
       "    }\n",
       "\n",
       "    .dataframe thead th {\n",
       "        text-align: right;\n",
       "    }\n",
       "</style>\n",
       "<table border=\"1\" class=\"dataframe\">\n",
       "  <thead>\n",
       "    <tr style=\"text-align: right;\">\n",
       "      <th></th>\n",
       "      <th>Name</th>\n",
       "      <th>Age</th>\n",
       "      <th>Salary</th>\n",
       "    </tr>\n",
       "  </thead>\n",
       "  <tbody>\n",
       "    <tr>\n",
       "      <th>0</th>\n",
       "      <td>Ed</td>\n",
       "      <td>76</td>\n",
       "      <td>95000</td>\n",
       "    </tr>\n",
       "    <tr>\n",
       "      <th>1</th>\n",
       "      <td>Flo</td>\n",
       "      <td>54</td>\n",
       "      <td>78000</td>\n",
       "    </tr>\n",
       "    <tr>\n",
       "      <th>2</th>\n",
       "      <td>Jed</td>\n",
       "      <td>60</td>\n",
       "      <td>57000</td>\n",
       "    </tr>\n",
       "  </tbody>\n",
       "</table>\n",
       "</div>"
      ],
      "text/plain": [
       "  Name  Age  Salary\n",
       "0   Ed   76   95000\n",
       "1  Flo   54   78000\n",
       "2  Jed   60   57000"
      ]
     },
     "execution_count": 144,
     "metadata": {},
     "output_type": "execute_result"
    }
   ],
   "source": [
    "df_6.merge(df_7, on=['Name'],how='inner')"
   ]
  },
  {
   "cell_type": "markdown",
   "id": "7435259d",
   "metadata": {},
   "source": [
    "What are some useful things you can you do with numpy and pandas?\n",
    "\n",
    "You can use numpy and pandas to maniplute data into formats that\n",
    "make it easier to read and work with. It is also useful for processing the data itself\n",
    "\n",
    "Why would those useful things be helpful in data analysis?\n",
    "Because putting data into formats that are easer to read, work with, and process makes data anlysis as a whole easier.\n",
    "\n",
    "What challenges did you have in following the examples?\n",
    "I had challenges understanding what some of the code was doing. I could see that it changed the data, but it was not obvious what was going on without reading the explanations several times."
   ]
  }
 ],
 "metadata": {
  "kernelspec": {
   "display_name": "Python 3 (ipykernel)",
   "language": "python",
   "name": "python3"
  },
  "language_info": {
   "codemirror_mode": {
    "name": "ipython",
    "version": 3
   },
   "file_extension": ".py",
   "mimetype": "text/x-python",
   "name": "python",
   "nbconvert_exporter": "python",
   "pygments_lexer": "ipython3",
   "version": "3.9.7"
  }
 },
 "nbformat": 4,
 "nbformat_minor": 5
}
